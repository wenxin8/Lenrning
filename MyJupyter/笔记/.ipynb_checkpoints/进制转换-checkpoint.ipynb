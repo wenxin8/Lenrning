{
 "cells": [
  {
   "cell_type": "code",
   "execution_count": 9,
   "metadata": {},
   "outputs": [
    {
     "name": "stdout",
     "output_type": "stream",
     "text": [
      "十进制： 17\n",
      "二进制： 0b10001\n",
      "八进制： 0o21\n",
      "十六进制： 0x11\n"
     ]
    }
   ],
   "source": [
    "dec = 17\n",
    "print('十进制：',dec)\n",
    "print('二进制：',bin(dec))\n",
    "print('八进制：',oct(dec))\n",
    "print('十六进制：',hex(dec))"
   ]
  },
  {
   "cell_type": "code",
   "execution_count": 24,
   "metadata": {},
   "outputs": [
    {
     "data": {
      "text/plain": [
       "17"
      ]
     },
     "execution_count": 24,
     "metadata": {},
     "output_type": "execute_result"
    }
   ],
   "source": [
    "int('10001',2)  # 二进制转十进制"
   ]
  },
  {
   "cell_type": "markdown",
   "metadata": {},
   "source": [
    "# 具体实现"
   ]
  },
  {
   "cell_type": "markdown",
   "metadata": {},
   "source": [
    "- 十进制转二进制"
   ]
  },
  {
   "cell_type": "code",
   "execution_count": 10,
   "metadata": {},
   "outputs": [],
   "source": [
    "def dec2bin(num):\n",
    "    l = []\n",
    "    if num < 0:\n",
    "        return '-' + dec2bin(abs(num))\n",
    "    while True:\n",
    "        num, remainder = divmod(num, 2)\n",
    "        l.append(str(remainder))\n",
    "        if num == 0:\n",
    "            return ''.join(l[::-1])"
   ]
  },
  {
   "cell_type": "markdown",
   "metadata": {},
   "source": [
    "- 十进制到八进制"
   ]
  },
  {
   "cell_type": "code",
   "execution_count": 12,
   "metadata": {},
   "outputs": [],
   "source": [
    "def dec2oct(num):\n",
    "    l = []\n",
    "    if num < 0:\n",
    "        return '-' + dec2oct(abs(num))\n",
    "    while True:\n",
    "        num, remainder = divmod(num, 8)\n",
    "        l.append(str(remainder))\n",
    "        if num == 0:\n",
    "            return ''.join(l[::-1])"
   ]
  },
  {
   "cell_type": "markdown",
   "metadata": {},
   "source": [
    "- 十进制到十六进制"
   ]
  },
  {
   "cell_type": "code",
   "execution_count": 13,
   "metadata": {},
   "outputs": [],
   "source": [
    "base = [str(x) for x in range(10)] + [ chr(x) for x in range(ord('A'),ord('A')+6)]\n",
    "def dec2hex(num):\n",
    "    l = []\n",
    "    if num < 0:\n",
    "        return '-' + dec2hex(abs(num))\n",
    "    while True:\n",
    "        num,rem = divmod(num, 16)\n",
    "        l.append(base[rem])\n",
    "        if num == 0:\n",
    "            return ''.join(l[::-1])"
   ]
  },
  {
   "cell_type": "code",
   "execution_count": null,
   "metadata": {},
   "outputs": [],
   "source": []
  }
 ],
 "metadata": {
  "kernelspec": {
   "display_name": "Python 3",
   "language": "python",
   "name": "python3"
  },
  "language_info": {
   "codemirror_mode": {
    "name": "ipython",
    "version": 3
   },
   "file_extension": ".py",
   "mimetype": "text/x-python",
   "name": "python",
   "nbconvert_exporter": "python",
   "pygments_lexer": "ipython3",
   "version": "3.8.2"
  }
 },
 "nbformat": 4,
 "nbformat_minor": 4
}
