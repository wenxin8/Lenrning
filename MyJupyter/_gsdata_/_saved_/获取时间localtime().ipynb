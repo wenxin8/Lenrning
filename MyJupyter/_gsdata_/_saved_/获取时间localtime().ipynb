{
 "cells": [
  {
   "cell_type": "code",
   "execution_count": 20,
   "metadata": {},
   "outputs": [
    {
     "name": "stdout",
     "output_type": "stream",
     "text": [
      "time.struct_time(tm_year=2020, tm_mon=3, tm_mday=30, tm_hour=19, tm_min=52, tm_sec=33, tm_wday=0, tm_yday=90, tm_isdst=0)\n",
      "time.struct_time(tm_year=2020, tm_mon=3, tm_mday=30, tm_hour=19, tm_min=52, tm_sec=33, tm_wday=0, tm_yday=90, tm_isdst=0)\n",
      "2020年3月30日\t19:52:33\n",
      "2020年3月30日\t19:52:34\n",
      "2020年3月30日\t19:52:35\n",
      "2020年3月30日\t19:52:36\n",
      "2020年3月30日\t19:52:37\n",
      "2020年3月30日\t19:52:38\n",
      "2020年3月30日\t19:52:39\n",
      "2020年3月30日\t19:52:40\n",
      "2020年3月30日\t19:52:41\n",
      "2020年3月30日\t19:52:42\n",
      "2020年3月30日\t19:52:43\n",
      "2020年3月30日\t19:52:44\n"
     ]
    },
    {
     "ename": "KeyboardInterrupt",
     "evalue": "",
     "output_type": "error",
     "traceback": [
      "\u001b[1;31m---------------------------------------------------------------------------\u001b[0m",
      "\u001b[1;31mKeyboardInterrupt\u001b[0m                         Traceback (most recent call last)",
      "\u001b[1;32m<ipython-input-20-057c237e5242>\u001b[0m in \u001b[0;36m<module>\u001b[1;34m\u001b[0m\n\u001b[0;32m      4\u001b[0m \u001b[1;32mwhile\u001b[0m \u001b[1;32mTrue\u001b[0m\u001b[1;33m:\u001b[0m\u001b[1;33m\u001b[0m\u001b[1;33m\u001b[0m\u001b[0m\n\u001b[0;32m      5\u001b[0m     \u001b[0mctime\u001b[0m \u001b[1;33m=\u001b[0m \u001b[0mlocaltime\u001b[0m\u001b[1;33m(\u001b[0m\u001b[1;33m)\u001b[0m\u001b[1;33m\u001b[0m\u001b[1;33m\u001b[0m\u001b[0m\n\u001b[1;32m----> 6\u001b[1;33m     \u001b[0msleep\u001b[0m\u001b[1;33m(\u001b[0m\u001b[1;36m1\u001b[0m\u001b[1;33m)\u001b[0m\u001b[1;33m\u001b[0m\u001b[1;33m\u001b[0m\u001b[0m\n\u001b[0m\u001b[0;32m      7\u001b[0m     \u001b[0mprint\u001b[0m\u001b[1;33m(\u001b[0m\u001b[1;34m\"%d年%d月%d日\\t%02d:%02d:%02d\"\u001b[0m \u001b[1;33m%\u001b[0m \u001b[1;33m(\u001b[0m\u001b[0mctime\u001b[0m\u001b[1;33m.\u001b[0m\u001b[0mtm_year\u001b[0m\u001b[1;33m,\u001b[0m \u001b[0mctime\u001b[0m\u001b[1;33m.\u001b[0m\u001b[0mtm_mon\u001b[0m\u001b[1;33m,\u001b[0m \u001b[0mctime\u001b[0m\u001b[1;33m.\u001b[0m\u001b[0mtm_mday\u001b[0m\u001b[1;33m,\u001b[0m \u001b[0mctime\u001b[0m\u001b[1;33m.\u001b[0m\u001b[0mtm_hour\u001b[0m\u001b[1;33m,\u001b[0m \u001b[0mctime\u001b[0m\u001b[1;33m.\u001b[0m\u001b[0mtm_min\u001b[0m\u001b[1;33m,\u001b[0m \u001b[0mctime\u001b[0m\u001b[1;33m.\u001b[0m\u001b[0mtm_sec\u001b[0m\u001b[1;33m)\u001b[0m\u001b[1;33m)\u001b[0m\u001b[1;33m\u001b[0m\u001b[1;33m\u001b[0m\u001b[0m\n",
      "\u001b[1;31mKeyboardInterrupt\u001b[0m: "
     ]
    }
   ],
   "source": [
    "from time import time, localtime, sleep\n",
    "print(localtime())\n",
    "print(localtime(time()))\n",
    "while True:\n",
    "    ctime = localtime()\n",
    "    sleep(1)\n",
    "    print(\"%d年%d月%d日\\t%02d:%02d:%02d\" % (ctime.tm_year, ctime.tm_mon, ctime.tm_mday, ctime.tm_hour, ctime.tm_min, ctime.tm_sec))"
   ]
  },
  {
   "cell_type": "code",
   "execution_count": null,
   "metadata": {},
   "outputs": [],
   "source": []
  },
  {
   "cell_type": "code",
   "execution_count": null,
   "metadata": {},
   "outputs": [],
   "source": []
  },
  {
   "cell_type": "code",
   "execution_count": null,
   "metadata": {},
   "outputs": [],
   "source": []
  }
 ],
 "metadata": {
  "kernelspec": {
   "display_name": "Python 3",
   "language": "python",
   "name": "python3"
  },
  "language_info": {
   "codemirror_mode": {
    "name": "ipython",
    "version": 3
   },
   "file_extension": ".py",
   "mimetype": "text/x-python",
   "name": "python",
   "nbconvert_exporter": "python",
   "pygments_lexer": "ipython3",
   "version": "3.7.6"
  }
 },
 "nbformat": 4,
 "nbformat_minor": 4
}
