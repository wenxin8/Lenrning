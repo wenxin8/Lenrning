{
 "cells": [
  {
   "cell_type": "markdown",
   "metadata": {},
   "source": [
    "- <font size=4>生成式(推导式)的用法"
   ]
  },
  {
   "cell_type": "code",
   "execution_count": 1,
   "metadata": {},
   "outputs": [
    {
     "name": "stdout",
     "output_type": "stream",
     "text": [
      "{'AAPL': 191.88, 'GOOG': 1186.96, 'IBM': 149.24, 'ACN': 166.89, 'FB': 208.09}\n"
     ]
    }
   ],
   "source": [
    "prices = {\n",
    "    'AAPL': 191.88,\n",
    "    'GOOG': 1186.96,\n",
    "    'IBM': 149.24,\n",
    "    'ORCL': 48.44,\n",
    "    'ACN': 166.89,\n",
    "    'FB': 208.09,\n",
    "    'SYMC': 21.29\n",
    "}\n",
    "# 用股票价格大于100元的股票构造一个新的字典\n",
    "prices2 ={key: value for key, value in prices.items() if value > 100}\n",
    "print(prices2)"
   ]
  },
  {
   "cell_type": "markdown",
   "metadata": {},
   "source": [
    "- <font size=4>嵌套的列表的坑"
   ]
  },
  {
   "cell_type": "code",
   "execution_count": null,
   "metadata": {},
   "outputs": [
    {
     "name": "stdout",
     "output_type": "stream",
     "text": [
      "[[None, None, None], [None, None, None], [None, None, None], [None, None, None], [None, None, None]]\n"
     ]
    }
   ],
   "source": [
    "names = ['关羽', '张飞', '赵云', '马超', '黄忠']\n",
    "courses = ['语文', '数学', '英语']\n",
    "\n",
    "# 录入五个学生三门课程的成绩\n",
    "# 错误 - 参考http://pythontutor.com/visualize.html#mode=edit\n",
    "# scores = [[None] * len(courses)] * len(names)\n",
    "\n",
    "scores = [[None] * len(courses) for _ in range(len(names))]\n",
    "print(scores)\n",
    "for row, name in enumerate(names):\n",
    "    for col, course in enumerate(courses):\n",
    "        scores[row][col] = float(input(f'请输入{name}的{course}成绩: '))\n",
    "        print(scores)\n",
    "        \n",
    "def chakan(s: Str):#查看成绩\n",
    "    index = names.index(s)\n",
    "    print(scores[index])\n",
    "       "
   ]
  },
  {
   "cell_type": "markdown",
   "metadata": {},
   "source": [
    "- <font size=4>heapq模块(堆排序)"
   ]
  },
  {
   "cell_type": "code",
   "execution_count": 6,
   "metadata": {},
   "outputs": [
    {
     "name": "stdout",
     "output_type": "stream",
     "text": [
      "[94, 89, 66] [22, 23, 32]\n",
      "[{'name': 'AAPL', 'shares': 50, 'price': 543.22}, {'name': 'ACME', 'shares': 75, 'price': 115.65}]\n",
      "[{'name': 'FB', 'shares': 200, 'price': 21.09}, {'name': 'IBM', 'shares': 100, 'price': 91.1}]\n"
     ]
    }
   ],
   "source": [
    "import heapq\n",
    "list1 = [22, 33, 32, 23, 45, 54, 66, 89, 94, 47]\n",
    "print(heapq.nlargest(3, list1), heapq.nsmallest(3, list1)) #从列表里找出最大或最小的n个元素\n",
    "list2 = [\n",
    "    {'name': 'IBM', 'shares': 100, 'price': 91.1},\n",
    "    {'name': 'AAPL', 'shares': 50, 'price': 543.22},\n",
    "    {'name': 'FB', 'shares': 200, 'price': 21.09},\n",
    "    {'name': 'HPQ', 'shares': 35, 'price': 31.75},\n",
    "    {'name': 'YHOO', 'shares': 45, 'price': 16.35},\n",
    "    {'name': 'ACME', 'shares': 75, 'price': 115.65}\n",
    "]\n",
    "print(heapq.nlargest(2, list2, key=lambda x: x['price']))\n",
    "print(heapq.nlargest(2, list2, key=lambda x: x['shares']))"
   ]
  },
  {
   "cell_type": "code",
   "execution_count": 9,
   "metadata": {},
   "outputs": [
    {
     "name": "stdout",
     "output_type": "stream",
     "text": [
      "[('eyes', 8), ('the', 5), ('look', 4), ('into', 3)]\n"
     ]
    }
   ],
   "source": [
    "\"\"\"\n",
    "找出序列中出现次数最多的元素\n",
    "\"\"\"\n",
    "from collections import Counter\n",
    "words = [\n",
    "    'look', 'into', 'my', 'eyes', 'look', 'into', 'my', 'eyes',\n",
    "    'the', 'eyes', 'the', 'eyes', 'the', 'eyes', 'not', 'around',\n",
    "    'the', 'eyes', \"don't\", 'look', 'around', 'the', 'eyes',\n",
    "    'look', 'into', 'my', 'eyes', \"you're\", 'under'\n",
    "]\n",
    "counter = Counter(words)\n",
    "print(counter.most_common(4))"
   ]
  },
  {
   "cell_type": "code",
   "execution_count": null,
   "metadata": {},
   "outputs": [],
   "source": []
  },
  {
   "cell_type": "code",
   "execution_count": 10,
   "metadata": {},
   "outputs": [
    {
     "name": "stdout",
     "output_type": "stream",
     "text": [
      "[3, 12, 72, 144, 144, 1296, 0, 0, 0, 0]\n",
      "[3, 4, 6, 6, 6, 9, 9, 9, 9, 9]\n",
      "['a', 'b', 'c', 'd', 'e', 'f']\n",
      "[('a', 'b'), ('a', 'c'), ('b', 'c')]\n",
      "[('a', 'b'), ('a', 'c'), ('b', 'a'), ('b', 'c'), ('c', 'a'), ('c', 'b')]\n",
      "1 3 5 7 9 11 \n"
     ]
    }
   ],
   "source": [
    "import itertools\n",
    "import operator\n",
    "data = [3, 4, 6, 2, 1, 9, 0, 7, 5, 8]\n",
    "a = list(itertools.accumulate(data, operator.mul))\n",
    "print(a)\n",
    "a = list(itertools.accumulate(data, max))\n",
    "print(a)\n",
    "\n",
    "a = itertools.chain('abc', 'def')\n",
    "print(list(a))\n",
    "\n",
    "a = itertools.combinations('abc', 2)\n",
    "print(list(a))\n",
    "a = itertools.permutations('abc', 2)\n",
    "print(list(a))\n",
    "\n",
    "a = itertools.count(start=1, step=2)\n",
    "for i in a:\n",
    "    print(i, end=' ')\n",
    "    if i > 10:\n",
    "        print()\n",
    "        break\n"
   ]
  },
  {
   "cell_type": "code",
   "execution_count": null,
   "metadata": {},
   "outputs": [],
   "source": []
  }
 ],
 "metadata": {
  "kernelspec": {
   "display_name": "Python 3",
   "language": "python",
   "name": "python3"
  },
  "language_info": {
   "codemirror_mode": {
    "name": "ipython",
    "version": 3
   },
   "file_extension": ".py",
   "mimetype": "text/x-python",
   "name": "python",
   "nbconvert_exporter": "python",
   "pygments_lexer": "ipython3",
   "version": "3.8.2"
  }
 },
 "nbformat": 4,
 "nbformat_minor": 4
}
