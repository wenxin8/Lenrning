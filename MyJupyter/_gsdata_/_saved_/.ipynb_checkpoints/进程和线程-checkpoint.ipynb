{
 "cells": [
  {
   "cell_type": "code",
   "execution_count": 2,
   "metadata": {},
   "outputs": [
    {
     "name": "stdout",
     "output_type": "stream",
     "text": [
      "开始下载Python从入门到住院.pdf...\n",
      "Python从入门到住院.pdf下载完成! 耗费了7秒\n",
      "开始下载Peking Hot.avi...\n",
      "Peking Hot.avi下载完成! 耗费了10秒\n",
      "总共耗费了17.01秒.\n"
     ]
    }
   ],
   "source": [
    "from random import randint\n",
    "from time import time, sleep\n",
    "\n",
    "\n",
    "def download_task(filename):\n",
    "    print('开始下载%s...' % filename)\n",
    "    time_to_download = randint(5, 10)\n",
    "    sleep(time_to_download)\n",
    "    print('%s下载完成! 耗费了%d秒' % (filename, time_to_download))\n",
    "\n",
    "\n",
    "def main():\n",
    "    start = time()\n",
    "    download_task('Python从入门到住院.pdf')\n",
    "    download_task('Peking Hot.avi')\n",
    "    end = time()\n",
    "    print('总共耗费了%.2f秒.' % (end - start))\n",
    "\n",
    "\n",
    "if __name__ == '__main__':\n",
    "    main()"
   ]
  },
  {
   "cell_type": "markdown",
   "metadata": {},
   "source": [
    "## 使用多进程的方式将两个下载任务放到不同的进程中，代码如下所示，Jupyter中运行多进程有问题"
   ]
  },
  {
   "cell_type": "code",
   "execution_count": 3,
   "metadata": {},
   "outputs": [
    {
     "name": "stdout",
     "output_type": "stream",
     "text": [
      "总共耗费了0.19秒.\n"
     ]
    }
   ],
   "source": [
    "from multiprocessing import Process\n",
    "from os import getpid\n",
    "from random import randint\n",
    "from time import time, sleep\n",
    "\n",
    "def download_task(filename):\n",
    "    print('启动下载进程，进程号[%d].' % getpid())\n",
    "    print('开始下载%s...' % filename)\n",
    "    time_to_download = randint(5, 10)\n",
    "    sleep(time_to_download)\n",
    "    print('%s下载完成! 耗费了%d秒' % (filename, time_to_download))\n",
    "\n",
    "def main():\n",
    "    start = time()\n",
    "    p1 = Process(target=download_task, args=('Python从入门到住院.pdf', ))\n",
    "    p1.start()\n",
    "    p2 = Process(target=download_task, args=('Peking Hot.avi', ))\n",
    "    p2.start()\n",
    "    p1.join()\n",
    "    p2.join()\n",
    "    end = time()\n",
    "    print('总共耗费了%.2f秒.' % (end - start))\n",
    "\n",
    "if __name__ == '__main__':\n",
    "    main()"
   ]
  },
  {
   "cell_type": "markdown",
   "metadata": {},
   "source": [
    "# Python中的多线程"
   ]
  },
  {
   "cell_type": "code",
   "execution_count": 13,
   "metadata": {},
   "outputs": [
    {
     "name": "stdout",
     "output_type": "stream",
     "text": [
      "开始下载Python从入门到住院.pdf...开始下载Peking Hot.avi...\n",
      "\n",
      "Python从入门到住院.pdf下载完成! 耗费了5秒\n",
      "Peking Hot.avi下载完成! 耗费了9秒\n",
      "总共耗费了9.014秒\n"
     ]
    }
   ],
   "source": [
    "from random import randint\n",
    "from threading import Thread\n",
    "from time import time, sleep\n",
    "\n",
    "def download(filename):\n",
    "    print('开始下载%s...' % filename)\n",
    "    time_to_download = randint(5, 10)\n",
    "    sleep(time_to_download)\n",
    "    print('%s下载完成! 耗费了%d秒' % (filename, time_to_download))\n",
    "\n",
    "def main():\n",
    "    start = time()\n",
    "    t1 = Thread(target=download, args=('Python从入门到住院.pdf',))\n",
    "    t1.start()\n",
    "    t2 = Thread(target=download, args=('Peking Hot.avi',))\n",
    "    t2.start()\n",
    "    t1.join()\n",
    "    t2.join()\n",
    "    end = time()\n",
    "    print('总共耗费了%.3f秒' % (end - start))\n",
    "    \n",
    "if __name__ == '__main__':\n",
    "    main()\n"
   ]
  },
  {
   "cell_type": "code",
   "execution_count": 2,
   "metadata": {},
   "outputs": [
    {
     "name": "stdout",
     "output_type": "stream",
     "text": [
      "7.10880\n",
      "6.97379\n",
      "7.18378\n"
     ]
    }
   ],
   "source": [
    "from threading import Thread\n",
    "from time import time\n",
    "\n",
    "def jc(num):\n",
    "    \n",
    "    s = 1\n",
    "    for i in range(1, num + 1):\n",
    "        s = s * i\n",
    "    return s\n",
    "    \n",
    "t1 = time()\n",
    "a = jc(111111)\n",
    "b = jc(111111)\n",
    "t2 = time()\n",
    "print('%.5f' % (t2 - t1))\n",
    "\n",
    "# 多线程\n",
    "t3 = time()\n",
    "thread1 = Thread(target=jc, args=(111111,))\n",
    "thread1.start()\n",
    "thread2 = Thread(target=jc, args=(111111,))\n",
    "thread2.start()\n",
    "thread1.join()\n",
    "thread2.join()\n",
    "t4 = time()\n",
    "print('%.5f' % (t4-t3))\n",
    "\n",
    "#\n",
    "class Jctask(Thread):\n",
    "    def __init__(self, num):\n",
    "        super().__init__()\n",
    "        self._num = num\n",
    "    def run(self):\n",
    "        s = 1\n",
    "        for i in range(1, self._num + 1):\n",
    "            s = s * i\n",
    "        return s\n",
    "# 我们可以直接使用threading模块的Thread类来创建线程，但是我们之前讲过一个非常重要的概念叫“继承”，\n",
    "# 我们可以从已有的类创建新类，因此也可以通过继承Thread类的方式来创建自定义的线程类，\n",
    "# 然后再创建线程对象并启动线程。代码如下所示。\n",
    "start = time()\n",
    "t1 = Jctask(111111)\n",
    "t1.start()\n",
    "t2 = Jctask(111111)\n",
    "t2.start()\n",
    "t1.join()\n",
    "t2.join()\n",
    "end = time()\n",
    "print('%.5f' % (end-start))\n",
    "\n",
    "        "
   ]
  },
  {
   "cell_type": "code",
   "execution_count": null,
   "metadata": {},
   "outputs": [],
   "source": []
  },
  {
   "cell_type": "code",
   "execution_count": null,
   "metadata": {},
   "outputs": [],
   "source": []
  }
 ],
 "metadata": {
  "kernelspec": {
   "display_name": "Python 3",
   "language": "python",
   "name": "python3"
  },
  "language_info": {
   "codemirror_mode": {
    "name": "ipython",
    "version": 3
   },
   "file_extension": ".py",
   "mimetype": "text/x-python",
   "name": "python",
   "nbconvert_exporter": "python",
   "pygments_lexer": "ipython3",
   "version": "3.8.2"
  }
 },
 "nbformat": 4,
 "nbformat_minor": 4
}
