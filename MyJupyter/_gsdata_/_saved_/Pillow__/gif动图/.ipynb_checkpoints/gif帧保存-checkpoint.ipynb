{
 "cells": [
  {
   "cell_type": "code",
   "execution_count": 3,
   "metadata": {},
   "outputs": [
    {
     "name": "stdout",
     "output_type": "stream",
     "text": [
      "处理结束\n"
     ]
    }
   ],
   "source": [
    "from PIL import Image\n",
    "im=Image.open(r'test.gif')\n",
    "try:\n",
    "    im.save('pic/picframe{:02d}.png'.format(im.tell()))   \n",
    "    while True:\n",
    "        im.seek(im.tell()+1)\n",
    "        im.save('pic/picframe%02d.png' % im.tell())\n",
    "except:\n",
    "    print(\"处理结束\")"
   ]
  },
  {
   "cell_type": "code",
   "execution_count": 5,
   "metadata": {},
   "outputs": [
    {
     "name": "stdout",
     "output_type": "stream",
     "text": [
      "处理结束\n"
     ]
    }
   ],
   "source": [
    "from PIL import Image\n",
    "im=Image.open(r'test.gif')\n",
    "try:\n",
    "    \n",
    "    while True:\n",
    "        im.save('pic/picframe%02d.png' % im.tell())\n",
    "        im.seek(im.tell()+1)\n",
    "        \n",
    "except:\n",
    "    print(\"处理结束\")"
   ]
  },
  {
   "cell_type": "code",
   "execution_count": 4,
   "metadata": {},
   "outputs": [
    {
     "name": "stdout",
     "output_type": "stream",
     "text": [
      "处理结束\n"
     ]
    }
   ],
   "source": [
    "from PIL import Image\n",
    "im=Image.open(r'test.gif')\n",
    "try:\n",
    "    i = 0\n",
    "    while True:\n",
    "        im.seek(i)\n",
    "        im.save('pic/picframe{:02d}.png'.format(i))\n",
    "        i += 1\n",
    "except:\n",
    "    print(\"处理结束\")"
   ]
  },
  {
   "cell_type": "markdown",
   "metadata": {},
   "source": [
    "## 计算gif帧数"
   ]
  },
  {
   "cell_type": "code",
   "execution_count": 11,
   "metadata": {},
   "outputs": [
    {
     "name": "stdout",
     "output_type": "stream",
     "text": [
      "4\n"
     ]
    }
   ],
   "source": [
    "from PIL import Image\n",
    "im=Image.open(r'test.gif')\n",
    "try:\n",
    "    i = 0\n",
    "    while True:\n",
    "        im.seek(i)\n",
    "        i += 1   \n",
    "except:\n",
    "    print(i)"
   ]
  },
  {
   "cell_type": "code",
   "execution_count": null,
   "metadata": {},
   "outputs": [],
   "source": []
  },
  {
   "cell_type": "code",
   "execution_count": 1,
   "metadata": {},
   "outputs": [],
   "source": []
  }
 ],
 "metadata": {
  "kernelspec": {
   "display_name": "Python 3",
   "language": "python",
   "name": "python3"
  },
  "language_info": {
   "codemirror_mode": {
    "name": "ipython",
    "version": 3
   },
   "file_extension": ".py",
   "mimetype": "text/x-python",
   "name": "python",
   "nbconvert_exporter": "python",
   "pygments_lexer": "ipython3",
   "version": "3.8.2"
  }
 },
 "nbformat": 4,
 "nbformat_minor": 4
}
