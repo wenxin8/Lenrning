{
 "cells": [
  {
   "cell_type": "code",
   "execution_count": 21,
   "metadata": {},
   "outputs": [],
   "source": [
    "from PIL import Image\n",
    "im=Image.open(r'test.gif')\n",
    "try:\n",
    "    im.save('pic/picframe{:02d}.png'.format(im.tell()))   \n",
    "    while True:\n",
    "        im.seek(im.tell()+1)\n",
    "        im.save('pic/picframe%02d.png' % im.tell())\n",
    "except:\n",
    "    print(\"处理结束\")"
   ]
  },
  {
   "cell_type": "markdown",
   "metadata": {},
   "source": [
    "## 计算gif帧数"
   ]
  },
  {
   "cell_type": "code",
   "execution_count": 11,
   "metadata": {},
   "outputs": [
    {
     "name": "stdout",
     "output_type": "stream",
     "text": [
      "4\n"
     ]
    }
   ],
   "source": [
    "from PIL import Image\n",
    "ims = []\n",
    "im=Image.open(r'test.gif')\n",
    "try:\n",
    "    i = -1\n",
    "    while True:\n",
    "        i += 1\n",
    "        im.seek(i)\n",
    "        \n",
    "    \n",
    "except:\n",
    "    print(i)"
   ]
  },
  {
   "cell_type": "code",
   "execution_count": null,
   "metadata": {},
   "outputs": [],
   "source": []
  },
  {
   "cell_type": "code",
   "execution_count": 1,
   "metadata": {},
   "outputs": [],
   "source": [
    "import tkinter as tk\n",
    "from PIL import Image, ImageTk\n",
    "\n",
    "def frame_num(im):   \n",
    "    try:\n",
    "        n = -1\n",
    "        while True:\n",
    "            n = n + 1\n",
    "            im.seek(n)          \n",
    "    except:\n",
    "        return n\n",
    "\n",
    "def run(n):\n",
    "        global photo\n",
    "        im = Image.open('test.gif')\n",
    "        fn = frame_num(im)\n",
    "        im.seek(n % fn)\n",
    "        photo = ImageTk.PhotoImage(im)\n",
    "        label.config(image=photo)\n",
    "        root.update()\n",
    "        root.after(500, run, n+1)\n",
    "n = 0\n",
    "root = tk.Tk()        \n",
    "label = tk.Label(root)\n",
    "label.pack()\n",
    "run(n)\n",
    "root.mainloop()"
   ]
  }
 ],
 "metadata": {
  "kernelspec": {
   "display_name": "Python 3",
   "language": "python",
   "name": "python3"
  },
  "language_info": {
   "codemirror_mode": {
    "name": "ipython",
    "version": 3
   },
   "file_extension": ".py",
   "mimetype": "text/x-python",
   "name": "python",
   "nbconvert_exporter": "python",
   "pygments_lexer": "ipython3",
   "version": "3.8.2"
  }
 },
 "nbformat": 4,
 "nbformat_minor": 4
}
