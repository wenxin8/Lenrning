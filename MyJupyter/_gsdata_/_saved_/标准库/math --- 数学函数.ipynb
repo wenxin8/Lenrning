{
 "cells": [
  {
   "cell_type": "code",
   "execution_count": 18,
   "metadata": {},
   "outputs": [],
   "source": [
    "import math"
   ]
  },
  {
   "cell_type": "code",
   "execution_count": 19,
   "metadata": {},
   "outputs": [
    {
     "name": "stdout",
     "output_type": "stream",
     "text": [
      "2 1 -1\n"
     ]
    }
   ],
   "source": [
    "# math.ceil(x)    返回 x 的上限，即大于或者等于 x 的最小整数。\n",
    "print(math.ceil(1.1), math.ceil(1), math.ceil(-1.1))"
   ]
  },
  {
   "cell_type": "code",
   "execution_count": 20,
   "metadata": {},
   "outputs": [],
   "source": [
    "#math.comb(n, k)\n",
    "#返回不重复且无顺序地从 n 项中选择 k 项的方式总数。\n",
    "#当 k <= n 时取值为 n! / (k! * (n - k)!)；当 k > n 时取值为零。\n",
    "#也称为二项式系数，因为它等价于表达式 (1 + x) ** n 的多项式展开中第 k 项的系数。\n",
    "#如果任一参数不为整数则会引发 TypeError。 如果任一参数为负数则会引发 ValueError。\n",
    "#3.8 新版功能."
   ]
  },
  {
   "cell_type": "code",
   "execution_count": null,
   "metadata": {},
   "outputs": [],
   "source": []
  }
 ],
 "metadata": {
  "kernelspec": {
   "display_name": "Python 3",
   "language": "python",
   "name": "python3"
  },
  "language_info": {
   "codemirror_mode": {
    "name": "ipython",
    "version": 3
   },
   "file_extension": ".py",
   "mimetype": "text/x-python",
   "name": "python",
   "nbconvert_exporter": "python",
   "pygments_lexer": "ipython3",
   "version": "3.7.7"
  }
 },
 "nbformat": 4,
 "nbformat_minor": 4
}
