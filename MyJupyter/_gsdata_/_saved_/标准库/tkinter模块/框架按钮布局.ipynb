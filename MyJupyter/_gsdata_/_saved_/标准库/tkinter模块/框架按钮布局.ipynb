{
 "cells": [
  {
   "cell_type": "markdown",
   "metadata": {},
   "source": [
    "```side:按扭停靠在窗口的哪个位置\n",
    "　　　　left: 左\n",
    "　　　　top: 上\n",
    "　　　　right: 右\n",
    "　　　　botton: 下\n",
    "fill:填充\n",
    "　　　　x:水平方向填充\n",
    "　　　　y:竖直方向填充\n",
    "　　　　both:水平和竖直方向填充\n",
    "　　　　none:不填充\n",
    "expand:\n",
    "　　　　yes:扩展整个空白区\n",
    "　　　　no:不扩展\n",
    "anchor:\n",
    "　　　　N:北  下\n",
    "　　　　E:东  右\n",
    "　　　　S:南 下\n",
    "　　　　W:西 左\n",
    "　　　　CENTER:中间\n",
    "　　padx:x方向的外边距\n",
    "　　pady:y方向的外边距\n",
    "　　ipadx:x方向的内边距\n",
    "　　ipady：y方向的内边距```"
   ]
  },
  {
   "cell_type": "code",
   "execution_count": 1,
   "metadata": {},
   "outputs": [],
   "source": [
    "from tkinter import *\n",
    "def main():\n",
    "    mywindow = Tk()\n",
    "    mywindow.title('这是一个标题')\n",
    "    mywindow.geometry('400x300+100+100') # 离左边100上边100\n",
    "    screenwidht = mywindow.winfo_screenwidth()  \n",
    "    screenheight = mywindow.winfo_screenheight()\n",
    "    frame_L = Frame(mywindow)\n",
    "    frame_R = Frame(mywindow)\n",
    "\n",
    "    Button(frame_L, text='中国', width=8, height=1).pack(side=LEFT)\n",
    "    Button(frame_L, text='德国', width=8, height=1).pack(side=LEFT)\n",
    "    Button(frame_L, text='英国', width=8, height=1).pack(side=LEFT)\n",
    "    Button(frame_L, text='美国', width=8, height=1).pack(side=LEFT)\n",
    "    \n",
    "    Label(frame_R, text='标签1', width=8, height=1).pack()\n",
    "    Label(frame_R, text='标签2', width=8, height=1).pack()\n",
    "    Label(frame_R, text='标签3', width=8, height=1).pack()\n",
    "    Label(frame_R, text='标签4', width=8, height=1).pack()\n",
    "        \n",
    "    frame_L.pack(side=TOP, fill=X)\n",
    "    frame_R.pack()\n",
    "    \n",
    "    mainloop()      \n",
    "main()"
   ]
  },
  {
   "cell_type": "code",
   "execution_count": 132,
   "metadata": {},
   "outputs": [],
   "source": [
    "from tkinter import*\n",
    "app = Tk()\n",
    "app.title('测试')\n",
    "app.geometry('400x300+100+100')\n",
    "for i in range(4):\n",
    "    for j in range(3):\n",
    "        Button(app, text=1).grid(row=i, column=j, padx=10, pady=10)\n",
    "app.mainloop()"
   ]
  },
  {
   "cell_type": "markdown",
   "metadata": {},
   "source": [
    "![](temp/1858.jpg)"
   ]
  },
  {
   "cell_type": "code",
   "execution_count": 181,
   "metadata": {},
   "outputs": [],
   "source": [
    "from tkinter import*\n",
    "app = Tk()\n",
    "app.title('测试')\n",
    "app.geometry('400x300+100+100')\n",
    "frame1=Frame(app)\n",
    "# for i in range(4):\n",
    "#     for j in range(3):\n",
    "#         a = Button(frame1, text=1).grid(row=i, column=j, padx=10, pady=10)\n",
    "n = 0\n",
    "b = Label(frame1,text='按钮').grid(row=1, column=1,padx=n,pady=n)\n",
    "b = Label(frame1,text='按钮').grid(row=2, column=2,padx=n,pady=n)\n",
    "b = Label(frame1,text='按钮').grid(row=3, column=3,padx=n,pady=n)\n",
    "b = Label(frame1,text='按钮').grid(row=4, column=4,padx=n,pady=n)\n",
    "frame1.pack(side=TOP, fill=X)\n",
    "app.mainloop()\n"
   ]
  },
  {
   "cell_type": "code",
   "execution_count": null,
   "metadata": {},
   "outputs": [],
   "source": []
  },
  {
   "cell_type": "code",
   "execution_count": null,
   "metadata": {},
   "outputs": [],
   "source": []
  }
 ],
 "metadata": {
  "kernelspec": {
   "display_name": "Python 3",
   "language": "python",
   "name": "python3"
  },
  "language_info": {
   "codemirror_mode": {
    "name": "ipython",
    "version": 3
   },
   "file_extension": ".py",
   "mimetype": "text/x-python",
   "name": "python",
   "nbconvert_exporter": "python",
   "pygments_lexer": "ipython3",
   "version": "3.8.2"
  }
 },
 "nbformat": 4,
 "nbformat_minor": 4
}
