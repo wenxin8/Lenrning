{
 "cells": [
  {
   "cell_type": "code",
   "execution_count": 14,
   "metadata": {},
   "outputs": [],
   "source": [
    "import tkinter as tk\n",
    "root = tk.Tk()\n",
    "root.geometry('400x200')\n",
    "frame_1 = tk.Frame(root)\n",
    "frame_1.pack(fill='x')\n",
    "tk.Label(frame_1, bg='green', width=6).pack(side='left', anchor='nw')\n",
    "tk.Label(frame_1, bg='yellow', width=6).pack(side='top', fill='x')\n",
    "tk.Label(root, bg='blue', width=6).pack(side='left', fill='y')\n",
    "tk.Label(root, bg='pink', width=6).pack(fill='x')\n",
    "tk.Label(root, bg='brown', width=6).pack(side='left', fill='y')\n",
    "tk.Label(root, bg='khaki', width=6).pack(fill='x')\n",
    "tk.Label(root, bg='ivory', width=6).pack(fill='x')\n",
    "tk.Label(root, bg='gray', width=6).pack(side='left', fill='y')\n",
    "\n",
    "root.mainloop()"
   ]
  },
  {
   "cell_type": "code",
   "execution_count": null,
   "metadata": {},
   "outputs": [],
   "source": []
  }
 ],
 "metadata": {
  "kernelspec": {
   "display_name": "Python 3",
   "language": "python",
   "name": "python3"
  },
  "language_info": {
   "codemirror_mode": {
    "name": "ipython",
    "version": 3
   },
   "file_extension": ".py",
   "mimetype": "text/x-python",
   "name": "python",
   "nbconvert_exporter": "python",
   "pygments_lexer": "ipython3",
   "version": "3.8.2"
  }
 },
 "nbformat": 4,
 "nbformat_minor": 4
}
