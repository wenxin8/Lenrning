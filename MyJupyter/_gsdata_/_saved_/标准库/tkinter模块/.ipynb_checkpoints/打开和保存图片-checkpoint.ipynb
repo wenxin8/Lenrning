{
 "cells": [
  {
   "cell_type": "code",
   "execution_count": null,
   "metadata": {},
   "outputs": [],
   "source": [
    "from tkinter import*\n",
    "from tkinter import filedialog\n",
    "from PIL import Image, ImageTk\n",
    "\n",
    "def choosepic():\n",
    "    global img_open\n",
    "    path_ = filedialog.askopenfilename(\n",
    "        defaultextension='.*',\n",
    "        filetypes=[('JPG file', '*.jpg'),\n",
    "                   ('PNG file', '*.png'),\n",
    "                   ('GIF file', '*.gif'),\n",
    "                   ('ALL file', '*.*')],\n",
    "        initialdir='temp/',\n",
    "        initialfile='test',\n",
    "        title='打开')\n",
    "    path.set(path_)\n",
    "    img_open = Image.open(e.get())\n",
    "    img_open.thumbnail((200, 200))\n",
    "    img = ImageTk.PhotoImage(img_open)\n",
    "    l.config(image=img)\n",
    "    l.image = img\n",
    "    l2.config(image=img)\n",
    "    l2.image = img\n",
    "    \n",
    "def save():\n",
    "    save_path=filedialog.asksaveasfilename(\n",
    "        defaultextension='.jpg',\n",
    "        filetypes=[('JPG file', '*.jpg'),\n",
    "                   ('PNG file', '*.png'),\n",
    "                   ('GIF file', '*.gif'),\n",
    "                   ('ALL file', '*.*')])\n",
    "    \n",
    "    img_open.save(save_path)\n",
    "\n",
    "root = Tk()\n",
    "root.title('加载图片')\n",
    "root.geometry('400x400')   \n",
    "frame1 = Frame(root)\n",
    "\n",
    "path = StringVar()\n",
    "    \n",
    "b = Button(frame1, text='打开', command=choosepic)\n",
    "b.pack(side=LEFT, padx=20)\n",
    "\n",
    "b2 = Button(frame1, text='保存',command=save)\n",
    "b2.pack(side='left')\n",
    "\n",
    "e = Entry(frame1, state='readonly', width=40, text=path)\n",
    "e.pack(side=LEFT)\n",
    "\n",
    "frame1.pack(side=TOP, fill=X)\n",
    "\n",
    "l = Label(root)\n",
    "l2 = Label(root)\n",
    "l.pack(side=LEFT)\n",
    "l2.pack(side=LEFT)\n",
    "\n",
    "\n",
    "root = mainloop()"
   ]
  },
  {
   "cell_type": "code",
   "execution_count": null,
   "metadata": {},
   "outputs": [],
   "source": []
  },
  {
   "cell_type": "code",
   "execution_count": null,
   "metadata": {},
   "outputs": [],
   "source": []
  },
  {
   "cell_type": "code",
   "execution_count": null,
   "metadata": {},
   "outputs": [],
   "source": []
  }
 ],
 "metadata": {
  "kernelspec": {
   "display_name": "Python 3",
   "language": "python",
   "name": "python3"
  },
  "language_info": {
   "codemirror_mode": {
    "name": "ipython",
    "version": 3
   },
   "file_extension": ".py",
   "mimetype": "text/x-python",
   "name": "python",
   "nbconvert_exporter": "python",
   "pygments_lexer": "ipython3",
   "version": "3.8.2"
  }
 },
 "nbformat": 4,
 "nbformat_minor": 4
}
