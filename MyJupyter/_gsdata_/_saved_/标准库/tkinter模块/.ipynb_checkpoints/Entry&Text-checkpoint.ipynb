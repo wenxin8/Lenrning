{
 "cells": [
  {
   "cell_type": "code",
   "execution_count": null,
   "metadata": {},
   "outputs": [],
   "source": [
    "# from tkinter import*\n",
    "window = Tk()\n",
    "window.title('Entry&Text')\n",
    "window.geometry('250x200+400+100')\n",
    "\n",
    "e = Entry(window, show='*', width=20)\n",
    "e.pack(pady=5)\n",
    "\n",
    "def insert_point():\n",
    "    var = e.get()\n",
    "    t.insert('insert', var)  # 'insert'光标处插入 \n",
    "\n",
    "def insert_end():\n",
    "    var = e.get()\n",
    "    t.insert('end', var)  #  'end'输入到尾部\n",
    "    \n",
    "\n",
    "b1 = Button(window, text='insert point', bg='gray', width=10, height=2, command=insert_point)\n",
    "b1.pack(pady=5)\n",
    "b2 = Button(window, text='insert end', bg='gray', width=10, command=insert_end)\n",
    "b2.pack(pady=5)\n",
    "\n",
    "t = Text(window, width=25, height=4)\n",
    "\n",
    "t.pack()\n",
    "window.mainloop()"
   ]
  },
  {
   "cell_type": "markdown",
   "metadata": {},
   "source": [
    "![](temp/2.jpg)"
   ]
  },
  {
   "cell_type": "code",
   "execution_count": null,
   "metadata": {},
   "outputs": [],
   "source": []
  }
 ],
 "metadata": {
  "kernelspec": {
   "display_name": "Python 3",
   "language": "python",
   "name": "python3"
  },
  "language_info": {
   "codemirror_mode": {
    "name": "ipython",
    "version": 3
   },
   "file_extension": ".py",
   "mimetype": "text/x-python",
   "name": "python",
   "nbconvert_exporter": "python",
   "pygments_lexer": "ipython3",
   "version": "3.8.2"
  }
 },
 "nbformat": 4,
 "nbformat_minor": 4
}
