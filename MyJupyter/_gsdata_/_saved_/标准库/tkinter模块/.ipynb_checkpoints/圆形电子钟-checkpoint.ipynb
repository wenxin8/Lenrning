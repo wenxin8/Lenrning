{
 "cells": [
  {
   "cell_type": "markdown",
   "metadata": {},
   "source": [
    "<font size=4>Tkinter需要mainloop来工作(来调用后面的所有函数)。  \n",
    "使用根。(time_ms, function_name_without_())之后(mainloop之前)  \n",
    "要运行某个函数—该函数必须在(…)之后运行相同的函数才能在循环中工作。  \n",
    "在Tkinter中你不用while True，因为while True是用来做(主)循环的  \n",
    "但是Tkinter有自己的主循环。  \n",
    "不要使用sleep() -使用after()  \n",
    "将while中的所有代码(除mainloop外)放入某个函数中，然后使用after()调用它。  \n",
    "使用second after()代替sleep()。  "
   ]
  },
  {
   "cell_type": "markdown",
   "metadata": {},
   "source": [
    "<font size=4>**after方法**"
   ]
  },
  {
   "cell_type": "code",
   "execution_count": null,
   "metadata": {},
   "outputs": [],
   "source": [
    "from tkinter import *\n",
    "import math,time\n",
    "\n",
    "List = []\n",
    "l = []\n",
    "\n",
    "def points():\n",
    "    # 如果已知圆心角a（单位弧度）,半径r\n",
    "    # 则弧长l=a*r\n",
    "    # 如果已知圆心角a（单位度），半径r\n",
    "    # 则弧长l=2*pi*r*a/360\n",
    " \n",
    "    for i in range(1,13):  # 时钟刻度\n",
    "        x = 200 + 130*math.sin(2*math.pi*i/12)   #弧度=弧长/半径，弧度=2*pi*a/360, a是度数\n",
    "        y = 200 - 130*math.cos(2*math.pi*i/12)\n",
    "        canvas.create_text(x,y, text=i, font=('Aria', 20))\n",
    "    for i in range(1, 61):  # 分钟刻度\n",
    "        x = 200 + 150*math.sin(2*math.pi*i/60)\n",
    "        y = 200 - 150*math.cos(2*math.pi*i/60)\n",
    "        a = 200 + 143*math.sin(2*math.pi*i/60)\n",
    "        b = 200 - 143*math.cos(2*math.pi*i/60)\n",
    "        canvas.create_line(x,y, a,b)\n",
    "    \n",
    "\n",
    "def createline(radius, line_width, rad):\n",
    "    global List\n",
    "    global i\n",
    "#    List = []  不能加这个， 分针时钟有拖影\n",
    "    x = 200 + radius * math.sin(rad)\n",
    "    y = 200 - radius * math.cos(rad)\n",
    "    i = canvas.create_line(200, 200, x, y, width=line_width)\n",
    "    List.append(i)\n",
    "\n",
    "def run():\n",
    "    global l\n",
    "    for item in List:\n",
    "        canvas.delete(item)\n",
    "        canvas.delete(l)\n",
    "    tm = time.localtime()\n",
    "    t = time.asctime(tm)\n",
    "    t_hour = 0\n",
    "    if tm.tm_hour <= 12:\n",
    "        t_hour = tm.tm_hour\n",
    "    else:\n",
    "        t_hour = tm.tm_hour - 12\n",
    "    rad1 = 2*math.pi*(t_hour + tm.tm_min/60)/12\n",
    "    rad2 = 2*math.pi*(tm.tm_min+tm.tm_sec/60)/60\n",
    "    rad3 = 2*math.pi*tm.tm_sec/60    \n",
    "    createline(100,6,rad1)\n",
    "    createline(110,3,rad2)\n",
    "    createline(135,1,rad3)    \n",
    "    l=canvas.create_text(170,450,text=t)\n",
    "    root.after(1000, run)  \n",
    "\n",
    "root = Tk()              \n",
    "canvas = Canvas(root,width=400, height=500, bg='pink', bd=0, highlightthickness=0)\n",
    "canvas.pack()\n",
    "canvas.create_oval(50,50,350,350) \n",
    "points()\n",
    "run()\n",
    "root.mainloop()"
   ]
  },
  {
   "cell_type": "markdown",
   "metadata": {},
   "source": [
    "<font size=4>**while方法**  \n",
    "    退出会报错 "
   ]
  },
  {
   "cell_type": "code",
   "execution_count": 54,
   "metadata": {},
   "outputs": [
    {
     "ename": "TclError",
     "evalue": "invalid command name \".!canvas\"",
     "output_type": "error",
     "traceback": [
      "\u001b[1;31m---------------------------------------------------------------------------\u001b[0m",
      "\u001b[1;31mTclError\u001b[0m                                  Traceback (most recent call last)",
      "\u001b[1;32m<ipython-input-54-504abf3cf4fa>\u001b[0m in \u001b[0;36m<module>\u001b[1;34m\u001b[0m\n\u001b[0;32m     37\u001b[0m     \u001b[0mrad2\u001b[0m \u001b[1;33m=\u001b[0m \u001b[1;36m2\u001b[0m\u001b[1;33m*\u001b[0m\u001b[0mmath\u001b[0m\u001b[1;33m.\u001b[0m\u001b[0mpi\u001b[0m\u001b[1;33m*\u001b[0m\u001b[1;33m(\u001b[0m\u001b[0mtm\u001b[0m\u001b[1;33m.\u001b[0m\u001b[0mtm_min\u001b[0m\u001b[1;33m+\u001b[0m\u001b[0mtm\u001b[0m\u001b[1;33m.\u001b[0m\u001b[0mtm_sec\u001b[0m\u001b[1;33m/\u001b[0m\u001b[1;36m60\u001b[0m\u001b[1;33m)\u001b[0m\u001b[1;33m/\u001b[0m\u001b[1;36m60\u001b[0m\u001b[1;33m\u001b[0m\u001b[1;33m\u001b[0m\u001b[0m\n\u001b[0;32m     38\u001b[0m     \u001b[0mrad3\u001b[0m \u001b[1;33m=\u001b[0m \u001b[1;36m2\u001b[0m\u001b[1;33m*\u001b[0m\u001b[0mmath\u001b[0m\u001b[1;33m.\u001b[0m\u001b[0mpi\u001b[0m\u001b[1;33m*\u001b[0m\u001b[0mtm\u001b[0m\u001b[1;33m.\u001b[0m\u001b[0mtm_sec\u001b[0m\u001b[1;33m/\u001b[0m\u001b[1;36m60\u001b[0m\u001b[1;33m\u001b[0m\u001b[1;33m\u001b[0m\u001b[0m\n\u001b[1;32m---> 39\u001b[1;33m     \u001b[0mline\u001b[0m\u001b[1;33m(\u001b[0m\u001b[1;36m80\u001b[0m\u001b[1;33m,\u001b[0m\u001b[1;36m6\u001b[0m\u001b[1;33m,\u001b[0m\u001b[0mrad1\u001b[0m\u001b[1;33m)\u001b[0m\u001b[1;33m\u001b[0m\u001b[1;33m\u001b[0m\u001b[0m\n\u001b[0m\u001b[0;32m     40\u001b[0m     \u001b[0mline\u001b[0m\u001b[1;33m(\u001b[0m\u001b[1;36m100\u001b[0m\u001b[1;33m,\u001b[0m\u001b[1;36m3\u001b[0m\u001b[1;33m,\u001b[0m\u001b[0mrad2\u001b[0m\u001b[1;33m)\u001b[0m\u001b[1;33m\u001b[0m\u001b[1;33m\u001b[0m\u001b[0m\n\u001b[0;32m     41\u001b[0m     \u001b[0mline\u001b[0m\u001b[1;33m(\u001b[0m\u001b[1;36m120\u001b[0m\u001b[1;33m,\u001b[0m\u001b[1;36m1\u001b[0m\u001b[1;33m,\u001b[0m\u001b[0mrad3\u001b[0m\u001b[1;33m)\u001b[0m\u001b[1;33m\u001b[0m\u001b[1;33m\u001b[0m\u001b[0m\n",
      "\u001b[1;32m<ipython-input-54-504abf3cf4fa>\u001b[0m in \u001b[0;36mline\u001b[1;34m(radius, line_width, rad)\u001b[0m\n\u001b[0;32m     17\u001b[0m     \u001b[0mx\u001b[0m \u001b[1;33m=\u001b[0m \u001b[1;36m200\u001b[0m \u001b[1;33m+\u001b[0m \u001b[0mradius\u001b[0m \u001b[1;33m*\u001b[0m \u001b[0mmath\u001b[0m\u001b[1;33m.\u001b[0m\u001b[0msin\u001b[0m\u001b[1;33m(\u001b[0m\u001b[0mrad\u001b[0m\u001b[1;33m)\u001b[0m\u001b[1;33m\u001b[0m\u001b[1;33m\u001b[0m\u001b[0m\n\u001b[0;32m     18\u001b[0m     \u001b[0my\u001b[0m \u001b[1;33m=\u001b[0m \u001b[1;36m200\u001b[0m \u001b[1;33m-\u001b[0m \u001b[0mradius\u001b[0m \u001b[1;33m*\u001b[0m \u001b[0mmath\u001b[0m\u001b[1;33m.\u001b[0m\u001b[0mcos\u001b[0m\u001b[1;33m(\u001b[0m\u001b[0mrad\u001b[0m\u001b[1;33m)\u001b[0m\u001b[1;33m\u001b[0m\u001b[1;33m\u001b[0m\u001b[0m\n\u001b[1;32m---> 19\u001b[1;33m     \u001b[0mi\u001b[0m \u001b[1;33m=\u001b[0m \u001b[0mcanvas\u001b[0m\u001b[1;33m.\u001b[0m\u001b[0mcreate_line\u001b[0m\u001b[1;33m(\u001b[0m\u001b[1;36m200\u001b[0m\u001b[1;33m,\u001b[0m \u001b[1;36m200\u001b[0m\u001b[1;33m,\u001b[0m \u001b[0mx\u001b[0m\u001b[1;33m,\u001b[0m \u001b[0my\u001b[0m\u001b[1;33m,\u001b[0m \u001b[0mwidth\u001b[0m\u001b[1;33m=\u001b[0m\u001b[0mline_width\u001b[0m\u001b[1;33m)\u001b[0m\u001b[1;33m\u001b[0m\u001b[1;33m\u001b[0m\u001b[0m\n\u001b[0m\u001b[0;32m     20\u001b[0m     \u001b[0mList\u001b[0m\u001b[1;33m.\u001b[0m\u001b[0mappend\u001b[0m\u001b[1;33m(\u001b[0m\u001b[0mi\u001b[0m\u001b[1;33m)\u001b[0m\u001b[1;33m\u001b[0m\u001b[1;33m\u001b[0m\u001b[0m\n\u001b[0;32m     21\u001b[0m \u001b[1;33m\u001b[0m\u001b[0m\n",
      "\u001b[1;32mD:\\anaconda3\\envs\\python38\\lib\\tkinter\\__init__.py\u001b[0m in \u001b[0;36mcreate_line\u001b[1;34m(self, *args, **kw)\u001b[0m\n\u001b[0;32m   2787\u001b[0m     \u001b[1;32mdef\u001b[0m \u001b[0mcreate_line\u001b[0m\u001b[1;33m(\u001b[0m\u001b[0mself\u001b[0m\u001b[1;33m,\u001b[0m \u001b[1;33m*\u001b[0m\u001b[0margs\u001b[0m\u001b[1;33m,\u001b[0m \u001b[1;33m**\u001b[0m\u001b[0mkw\u001b[0m\u001b[1;33m)\u001b[0m\u001b[1;33m:\u001b[0m\u001b[1;33m\u001b[0m\u001b[1;33m\u001b[0m\u001b[0m\n\u001b[0;32m   2788\u001b[0m         \u001b[1;34m\"\"\"Create line with coordinates x1,y1,...,xn,yn.\"\"\"\u001b[0m\u001b[1;33m\u001b[0m\u001b[1;33m\u001b[0m\u001b[0m\n\u001b[1;32m-> 2789\u001b[1;33m         \u001b[1;32mreturn\u001b[0m \u001b[0mself\u001b[0m\u001b[1;33m.\u001b[0m\u001b[0m_create\u001b[0m\u001b[1;33m(\u001b[0m\u001b[1;34m'line'\u001b[0m\u001b[1;33m,\u001b[0m \u001b[0margs\u001b[0m\u001b[1;33m,\u001b[0m \u001b[0mkw\u001b[0m\u001b[1;33m)\u001b[0m\u001b[1;33m\u001b[0m\u001b[1;33m\u001b[0m\u001b[0m\n\u001b[0m\u001b[0;32m   2790\u001b[0m \u001b[1;33m\u001b[0m\u001b[0m\n\u001b[0;32m   2791\u001b[0m     \u001b[1;32mdef\u001b[0m \u001b[0mcreate_oval\u001b[0m\u001b[1;33m(\u001b[0m\u001b[0mself\u001b[0m\u001b[1;33m,\u001b[0m \u001b[1;33m*\u001b[0m\u001b[0margs\u001b[0m\u001b[1;33m,\u001b[0m \u001b[1;33m**\u001b[0m\u001b[0mkw\u001b[0m\u001b[1;33m)\u001b[0m\u001b[1;33m:\u001b[0m\u001b[1;33m\u001b[0m\u001b[1;33m\u001b[0m\u001b[0m\n",
      "\u001b[1;32mD:\\anaconda3\\envs\\python38\\lib\\tkinter\\__init__.py\u001b[0m in \u001b[0;36m_create\u001b[1;34m(self, itemType, args, kw)\u001b[0m\n\u001b[0;32m   2769\u001b[0m         \u001b[1;32melse\u001b[0m\u001b[1;33m:\u001b[0m\u001b[1;33m\u001b[0m\u001b[1;33m\u001b[0m\u001b[0m\n\u001b[0;32m   2770\u001b[0m             \u001b[0mcnf\u001b[0m \u001b[1;33m=\u001b[0m \u001b[1;33m{\u001b[0m\u001b[1;33m}\u001b[0m\u001b[1;33m\u001b[0m\u001b[1;33m\u001b[0m\u001b[0m\n\u001b[1;32m-> 2771\u001b[1;33m         return self.tk.getint(self.tk.call(\n\u001b[0m\u001b[0;32m   2772\u001b[0m             \u001b[0mself\u001b[0m\u001b[1;33m.\u001b[0m\u001b[0m_w\u001b[0m\u001b[1;33m,\u001b[0m \u001b[1;34m'create'\u001b[0m\u001b[1;33m,\u001b[0m \u001b[0mitemType\u001b[0m\u001b[1;33m,\u001b[0m\u001b[1;33m\u001b[0m\u001b[1;33m\u001b[0m\u001b[0m\n\u001b[0;32m   2773\u001b[0m             *(args + self._options(cnf, kw))))\n",
      "\u001b[1;31mTclError\u001b[0m: invalid command name \".!canvas\""
     ]
    }
   ],
   "source": [
    "from tkinter import *\n",
    "import math,time\n",
    "\n",
    "def points():\n",
    "# 如果已知圆心角a（单位弧度）,半径r\n",
    "# 则弧长l=a*r\n",
    "# 如果已知圆心角a（单位度），半径r\n",
    "# 则弧长l=2*pi*r*a/360\n",
    "    for i in range(1,13):\n",
    "        x = 200 + 125*math.sin(2*math.pi*i/12)   #弧度=弧长/半径，弧度=2*pi*a/360, a是度数\n",
    "        y = 200 - 125*math.cos(2*math.pi*i/12)\n",
    "        canvas.create_text(x,y,text=i)\n",
    "def line(radius, line_width, rad):\n",
    "    global List\n",
    "    global i\n",
    "    List = []\n",
    "    x = 200 + radius * math.sin(rad)\n",
    "    y = 200 - radius * math.cos(rad)\n",
    "    i = canvas.create_line(200, 200, x, y, width=line_width)\n",
    "    List.append(i)\n",
    "    \n",
    "root = Tk()        \n",
    "        \n",
    "canvas = Canvas(root,width=400,height=500,bd=0,highlightthickness=0)\n",
    "canvas.pack()\n",
    "canvas.create_oval(50,50,350,350)\n",
    "points()\n",
    "while 1:\n",
    "    tm = time.localtime()\n",
    "    t = time.asctime(tm)\n",
    "    t_hour = 0\n",
    "    if tm.tm_hour <= 12:\n",
    "        t_hour = tm.tm_hour\n",
    "    else:\n",
    "        t_hour = tm.tm_hour - 12\n",
    "    rad1 = 2*math.pi*(t_hour + tm.tm_min/60)/12\n",
    "    rad2 = 2*math.pi*(tm.tm_min+tm.tm_sec/60)/60\n",
    "    rad3 = 2*math.pi*tm.tm_sec/60    \n",
    "    line(80,6,rad1)\n",
    "    line(100,3,rad2)\n",
    "    line(120,1,rad3)\n",
    "    \n",
    "    l=canvas.create_text(170,450,text=t)\n",
    "    root.update()\n",
    "    time.sleep(1)\n",
    "    for item in List:\n",
    "        canvas.delete(item)\n",
    "        canvas.delete(l)\n",
    "        root.update()\n",
    "root.mainloop()\n"
   ]
  },
  {
   "cell_type": "code",
   "execution_count": null,
   "metadata": {},
   "outputs": [],
   "source": []
  }
 ],
 "metadata": {
  "kernelspec": {
   "display_name": "Python 3",
   "language": "python",
   "name": "python3"
  },
  "language_info": {
   "codemirror_mode": {
    "name": "ipython",
    "version": 3
   },
   "file_extension": ".py",
   "mimetype": "text/x-python",
   "name": "python",
   "nbconvert_exporter": "python",
   "pygments_lexer": "ipython3",
   "version": "3.8.2"
  }
 },
 "nbformat": 4,
 "nbformat_minor": 4
}
