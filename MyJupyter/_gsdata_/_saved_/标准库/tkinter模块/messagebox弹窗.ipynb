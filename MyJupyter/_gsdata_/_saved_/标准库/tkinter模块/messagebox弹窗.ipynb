{
 "cells": [
  {
   "cell_type": "code",
   "execution_count": 18,
   "metadata": {},
   "outputs": [],
   "source": [
    "from tkinter import Tk, messagebox\n",
    "def hit_me():    \n",
    "    msg = messagebox.showinfo(title='hello', message='hello world')\n",
    "window = Tk()\n",
    "window.title('messagebox弹窗')\n",
    "window.geometry('300x200+100+100')\n",
    "\n",
    "Button(window, text='hit_me', command=hit_me).pack()\n",
    "\n",
    "window.mainloop()"
   ]
  },
  {
   "cell_type": "code",
   "execution_count": null,
   "metadata": {},
   "outputs": [],
   "source": [
    "import tkinter as tk\n",
    "import tkinter.messagebox\n",
    "\n",
    "def main():\n",
    "    flag = True\n",
    "    def change_label_text():\n",
    "        nonlocal flag\n",
    "        flag = not flag\n",
    "        if flag:\n",
    "            color, msg = ('blue', 'Hello, world!')  \n",
    "        else:\n",
    "            color, msg = ('blue', 'Goodbye, world!')\n",
    "        label.config(text=msg, fg=color)\n",
    "\n",
    "    def confirm_to_quit():\n",
    "        if tk.messagebox.askokcancel('温馨提示', '确定要退出吗?'):\n",
    "            top.destroy()\n",
    "\n",
    "\n",
    "    top = tk.Tk()\n",
    "    top.title('小游戏')\n",
    "    top.geometry('240x160')\n",
    "\n",
    "    label = tk.Label(top, text='Hellow, world!', font=('宋体', 12), fg='red', bg='yellow')\n",
    "    label.pack(expand=1)\n",
    "\n",
    "    panel = tk.Frame(top)\n",
    "    button1 = tk.Button(panel, text='修改', command=change_label_text)\n",
    "    button1.pack(side='left')\n",
    "    button2 = tk.Button(panel, text='退出', command=confirm_to_quit)\n",
    "    button2.pack(side='right')\n",
    "    panel.pack(side='bottom')\n",
    "\n",
    "    top.mainloop()\n",
    "if __name__ == '__main__':\n",
    "    main()"
   ]
  },
  {
   "cell_type": "code",
   "execution_count": null,
   "metadata": {},
   "outputs": [],
   "source": []
  }
 ],
 "metadata": {
  "kernelspec": {
   "display_name": "Python 3",
   "language": "python",
   "name": "python3"
  },
  "language_info": {
   "codemirror_mode": {
    "name": "ipython",
    "version": 3
   },
   "file_extension": ".py",
   "mimetype": "text/x-python",
   "name": "python",
   "nbconvert_exporter": "python",
   "pygments_lexer": "ipython3",
   "version": "3.8.2"
  }
 },
 "nbformat": 4,
 "nbformat_minor": 4
}
