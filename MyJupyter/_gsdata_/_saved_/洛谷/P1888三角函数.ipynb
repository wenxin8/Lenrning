{
 "cells": [
  {
   "cell_type": "markdown",
   "metadata": {},
   "source": [
    "<font size=4>**题目描述**  \n",
    "输入一组勾股数a,b,c（a≠b≠c），用分数格式输出其较小锐角的正弦值。（要求约分。）"
   ]
  },
  {
   "cell_type": "code",
   "execution_count": 1,
   "metadata": {},
   "outputs": [
    {
     "name": "stdin",
     "output_type": "stream",
     "text": [
      " 9 10 8\n"
     ]
    },
    {
     "name": "stdout",
     "output_type": "stream",
     "text": [
      "4/5\n"
     ]
    }
   ],
   "source": [
    "def max_commondivisor(a, b):\n",
    "    if a < b:\n",
    "        a, b = b, a\n",
    "    r = a % b\n",
    "    while r != 0:\n",
    "        a, b = b, r\n",
    "        r = a % b\n",
    "    return b\n",
    "\n",
    "def min_sin(a, b, c):\n",
    "    lists = [a, b, c]\n",
    "    lists.sort()\n",
    "    a = lists[0]\n",
    "    b = lists[1]\n",
    "    c = lists[2]\n",
    "    # 最小锐角正弦为 a/c\n",
    "    m = max_commondivisor(a, c)\n",
    "    print('%d/%d' % (a/m, c/m))\n",
    "\n",
    "def main():\n",
    "    a, b, c = map(int, input().split())\n",
    "    min_sin(a, b, c)\n",
    "\n",
    "main()"
   ]
  },
  {
   "cell_type": "code",
   "execution_count": null,
   "metadata": {},
   "outputs": [],
   "source": []
  }
 ],
 "metadata": {
  "kernelspec": {
   "display_name": "Python 3",
   "language": "python",
   "name": "python3"
  },
  "language_info": {
   "codemirror_mode": {
    "name": "ipython",
    "version": 3
   },
   "file_extension": ".py",
   "mimetype": "text/x-python",
   "name": "python",
   "nbconvert_exporter": "python",
   "pygments_lexer": "ipython3",
   "version": "3.8.2"
  }
 },
 "nbformat": 4,
 "nbformat_minor": 4
}
