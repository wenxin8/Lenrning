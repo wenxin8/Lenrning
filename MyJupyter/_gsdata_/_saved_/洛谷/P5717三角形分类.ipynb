{
 "cells": [
  {
   "cell_type": "code",
   "execution_count": 6,
   "metadata": {},
   "outputs": [
    {
     "name": "stdin",
     "output_type": "stream",
     "text": [
      " 4 2 5\n"
     ]
    },
    {
     "name": "stdout",
     "output_type": "stream",
     "text": [
      "Acute triangle\n",
      "Obtuse triangle\n"
     ]
    }
   ],
   "source": [
    "def panduan(a, b, c):\n",
    "    lists = [a, b, c]\n",
    "    lists.sort()\n",
    "    a = lists[0]\n",
    "    b = lists[1]\n",
    "    c = lists[2]\n",
    "    if a + b < c:\n",
    "        print('Not triangle')  #不能组成三角形\n",
    "    else:\n",
    "        if a**2 + b**2 == c**2:\n",
    "            print('Right triangle')  #直角三角形\n",
    "        if a**2 + b**2 > c**2:\n",
    "            print('Acute triangle')  #锐角三角形\n",
    "        if a**2 + b**2 < c**2:\n",
    "            print('Obtuse triangle')  #钝角三角形\n",
    "        if a == b:\n",
    "            print('Isosceles triangle')  #等腰三角形\n",
    "        if a == b == c:\n",
    "            print('Equilateral triangle')  #等边三角形\n",
    "\n",
    "def main():\n",
    "    a, b, c = map(int, input().split())\n",
    "    panduan(a, b, c)\n",
    "    \n",
    "main()\n",
    "        \n",
    "        \n",
    "        "
   ]
  },
  {
   "cell_type": "code",
   "execution_count": null,
   "metadata": {},
   "outputs": [],
   "source": []
  }
 ],
 "metadata": {
  "kernelspec": {
   "display_name": "Python 3",
   "language": "python",
   "name": "python3"
  },
  "language_info": {
   "codemirror_mode": {
    "name": "ipython",
    "version": 3
   },
   "file_extension": ".py",
   "mimetype": "text/x-python",
   "name": "python",
   "nbconvert_exporter": "python",
   "pygments_lexer": "ipython3",
   "version": "3.8.2"
  }
 },
 "nbformat": 4,
 "nbformat_minor": 4
}
