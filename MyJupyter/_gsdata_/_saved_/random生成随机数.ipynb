{
 "cells": [
  {
   "cell_type": "code",
   "execution_count": 1,
   "metadata": {},
   "outputs": [],
   "source": [
    "import random"
   ]
  },
  {
   "cell_type": "code",
   "execution_count": 2,
   "metadata": {},
   "outputs": [
    {
     "name": "stdout",
     "output_type": "stream",
     "text": [
      "1\n",
      "3\n",
      "3\n"
     ]
    }
   ],
   "source": [
    "#choice 返回序列里的一个元素\n",
    "print(random.choice(['1','2','3']))\n",
    "print(random.choice([1, 2, 3]))\n",
    "print(random.choice('12345'))"
   ]
  },
  {
   "cell_type": "code",
   "execution_count": 3,
   "metadata": {},
   "outputs": [
    {
     "name": "stdout",
     "output_type": "stream",
     "text": [
      "[2, 7, 6]\n",
      "[4, 1, 2]\n",
      "['f', 'y', 'd', 'm']\n"
     ]
    }
   ],
   "source": [
    "# sample返回的是列表\n",
    "print(random.sample(range(10), k=3))\n",
    "print(random.sample([1,2,3,4], 3))\n",
    "print(random.sample('acdefghigklmnopqrstuvwxyz', 4))"
   ]
  },
  {
   "cell_type": "code",
   "execution_count": 4,
   "metadata": {},
   "outputs": [
    {
     "name": "stdout",
     "output_type": "stream",
     "text": [
      "[1]的个数：4961\n",
      "[2]的个数：4078\n",
      "[3]的个数：961\n",
      "[2, 2, 2, 1, 2, 3, 2, 3, 2, 1]\n",
      "\n",
      "['4', '4', '4', '1', '3', '3', '2', '2', '4', '2']\n",
      "\n",
      "0.4146\n"
     ]
    }
   ],
   "source": [
    "# choices 返回列表\n",
    "s1 = s2 = s3 = 0\n",
    "for i in range(10000):\n",
    "    a = random.choices([1, 2, 3], weights = [5, 4, 1], k=10) # k不能漏\n",
    "    if a[0] == 1:\n",
    "        s1 += 1\n",
    "    elif a[0] == 2:\n",
    "        s2 += 1\n",
    "    else:\n",
    "        s3 += 1\n",
    "print(f'[1]的个数：{s1}\\n[2]的个数：{s2}\\n[3]的个数：{s3}')\n",
    "print(a)\n",
    "print()\n",
    "a = random.choices('1234',weights=[1,2,3,4], k=10)\n",
    "print(a)\n",
    "print()\n",
    "def trial():\n",
    "    return random.choices('HT', cum_weights=(0.6, 1.0), k =7).count('H') >= 5  # cum_weights是累计权重\n",
    "print(sum(trial() for i in range(10000)) / 10000)"
   ]
  },
  {
   "cell_type": "code",
   "execution_count": 5,
   "metadata": {},
   "outputs": [
    {
     "name": "stdout",
     "output_type": "stream",
     "text": [
      "[0,2]之间的数：3083\n",
      "[2-10]之间的数：6917\n"
     ]
    }
   ],
   "source": [
    "# random.triangular(a,b,m) m靠那边，哪边权重大\n",
    "s1 = 0\n",
    "s2 = 0\n",
    "for i in range(10000):\n",
    "    r = random.triangular(0,10,8)\n",
    "    if 0 <= r <= 5:\n",
    "        s1 += 1\n",
    "    elif 5 <= r <= 10:\n",
    "        s2 += 1\n",
    "print(f'[0,2]之间的数：{s1}\\n[2-10]之间的数：{s2}')       "
   ]
  },
  {
   "cell_type": "code",
   "execution_count": 6,
   "metadata": {},
   "outputs": [
    {
     "name": "stdout",
     "output_type": "stream",
     "text": [
      "[2, 5, 1, 4, 3]\n"
     ]
    }
   ],
   "source": [
    "# random.shuffle(x)\n",
    "a = [1, 2, 3, 4, 5]\n",
    "b = '12345'\n",
    "random.shuffle(a)  # 打乱序列a的位置，\n",
    "print(a)"
   ]
  },
  {
   "cell_type": "code",
   "execution_count": 7,
   "metadata": {},
   "outputs": [
    {
     "name": "stdout",
     "output_type": "stream",
     "text": [
      "<class 'collections.Counter'>\n",
      "Counter({'low_cards': 36, 'tens': 16})\n",
      "\n",
      "['tens', 'tens', 'tens', 'tens', 'tens', 'tens', 'tens', 'tens', 'tens', 'tens', 'tens', 'tens', 'tens', 'tens', 'tens', 'tens', 'low_cards', 'low_cards', 'low_cards', 'low_cards', 'low_cards', 'low_cards', 'low_cards', 'low_cards', 'low_cards', 'low_cards', 'low_cards', 'low_cards', 'low_cards', 'low_cards', 'low_cards', 'low_cards', 'low_cards', 'low_cards', 'low_cards', 'low_cards', 'low_cards', 'low_cards', 'low_cards', 'low_cards', 'low_cards', 'low_cards', 'low_cards', 'low_cards', 'low_cards', 'low_cards', 'low_cards', 'low_cards', 'low_cards', 'low_cards', 'low_cards', 'low_cards']\n",
      "\n",
      "['low_cards', 'low_cards', 'low_cards', 'tens', 'tens', 'tens', 'tens', 'low_cards', 'low_cards', 'low_cards', 'tens', 'low_cards', 'low_cards', 'low_cards', 'low_cards', 'tens', 'low_cards', 'low_cards', 'tens', 'low_cards']\n",
      "0.35\n"
     ]
    }
   ],
   "source": [
    "import collections\n",
    "deck = collections.Counter(tens=16, low_cards=36)\n",
    "print(type(deck))\n",
    "print(deck)\n",
    "print()\n",
    "seen = random.sample(list(deck.elements()), k=20)\n",
    "print(list(deck.elements()))\n",
    "print()\n",
    "print(seen)\n",
    "print(seen.count('tens') / 20)"
   ]
  },
  {
   "cell_type": "code",
   "execution_count": 8,
   "metadata": {},
   "outputs": [
    {
     "name": "stdout",
     "output_type": "stream",
     "text": [
      "1 2\n"
     ]
    }
   ],
   "source": [
    "a = [1,2,3]\n",
    "b = '1234512345'\n",
    "print(a.count(1), b.count('1'))"
   ]
  },
  {
   "cell_type": "code",
   "execution_count": null,
   "metadata": {},
   "outputs": [],
   "source": []
  }
 ],
 "metadata": {
  "kernelspec": {
   "display_name": "Python 3",
   "language": "python",
   "name": "python3"
  },
  "language_info": {
   "codemirror_mode": {
    "name": "ipython",
    "version": 3
   },
   "file_extension": ".py",
   "mimetype": "text/x-python",
   "name": "python",
   "nbconvert_exporter": "python",
   "pygments_lexer": "ipython3",
   "version": "3.8.2"
  }
 },
 "nbformat": 4,
 "nbformat_minor": 4
}
