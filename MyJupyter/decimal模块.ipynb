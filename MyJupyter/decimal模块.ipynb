{
 "cells": [
  {
   "cell_type": "code",
   "execution_count": 77,
   "metadata": {},
   "outputs": [
    {
     "name": "stdout",
     "output_type": "stream",
     "text": [
      "0.123457\n"
     ]
    }
   ],
   "source": [
    "from decimal import Decimal, getcontext\n",
    "\n",
    "getcontext().prec = 6\n",
    "print(Decimal(0.12345667777) / Decimal(1))\n"
   ]
  },
  {
   "cell_type": "code",
   "execution_count": 78,
   "metadata": {},
   "outputs": [
    {
     "name": "stdout",
     "output_type": "stream",
     "text": [
      "0.0823045\n",
      "0.1234567897776999989556401260415441356599330902099609375\n",
      "5\n"
     ]
    }
   ],
   "source": [
    "print(Decimal(0.1234567897777) / Decimal(1.5))\n",
    "print(Decimal(0.1234567897777))\n",
    "print(Decimal(5))"
   ]
  },
  {
   "cell_type": "code",
   "execution_count": 79,
   "metadata": {},
   "outputs": [
    {
     "name": "stdout",
     "output_type": "stream",
     "text": [
      "Input                     Output                   \n",
      "------------------------- -------------------------\n",
      "5                         5                        \n",
      "3.14                      3.14                     \n",
      "0.1                       0.1                      \n",
      "0.10000000000000000555112 0.10000000000000000555111\n",
      "Input  : (1, (1, 1), -2)\n",
      "Decimal: -0.11\n"
     ]
    }
   ],
   "source": [
    "import decimal\n",
    "fmt = '{0:<25} {1:<25}'\n",
    "print(fmt.format('Input', 'Output'))\n",
    "print(fmt.format('-' * 25, '-' * 25))\n",
    "print(fmt.format(5, decimal.Decimal(5)))\n",
    "print(fmt.format('3.14', decimal.Decimal('3.14')))\n",
    "\n",
    "\n",
    "f = 0.1\n",
    "print(fmt.format(repr(f), decimal.Decimal(str(f))))\n",
    "print(fmt.format('%.23g' % f, str(decimal.Decimal.from_float(f))[:25]))\n",
    "\n",
    "t = (1, (1, 1), -2)\n",
    "print('Input  :', t)\n",
    "print('Decimal:', decimal.Decimal(t))"
   ]
  },
  {
   "cell_type": "code",
   "execution_count": 80,
   "metadata": {},
   "outputs": [
    {
     "name": "stdout",
     "output_type": "stream",
     "text": [
      "a     = Decimal('5.1')\n",
      "b     = Decimal('3.14')\n",
      "c     = 4\n",
      "d     = 3.14\n",
      "a + b = 8.24\n",
      "a - b = 1.96\n",
      "a * b = 16.014\n",
      "a / b = 1.62420\n",
      "a + c = 9.1\n",
      "a - c = 1.1\n",
      "a * c = 20.4\n",
      "a / c = 1.275\n",
      "a + d =\n"
     ]
    }
   ],
   "source": [
    "import decimal\n",
    " \n",
    "a = decimal.Decimal('5.1')\n",
    "b = decimal.Decimal('3.14')\n",
    "c = 4\n",
    "d = 3.14\n",
    " \n",
    "print ('a     =', repr(a))\n",
    "print ('b     =', repr(b))\n",
    "print ('c     =', repr(c))\n",
    "print ('d     =', repr(d))\n",
    "print\n",
    " \n",
    "print ('a + b =', a + b)\n",
    "print ('a - b =', a - b)\n",
    "print ('a * b =', a * b)\n",
    "print ('a / b =', a / b)\n",
    "print\n",
    " \n",
    "print ('a + c =', a + c)\n",
    "print ('a - c =', a - c)\n",
    "print ('a * c =', a * c)\n",
    "print ('a / c =', a / c)\n",
    "print\n",
    " \n",
    "print ('a + d =',)\n"
   ]
  },
  {
   "cell_type": "code",
   "execution_count": 81,
   "metadata": {},
   "outputs": [
    {
     "name": "stdout",
     "output_type": "stream",
     "text": [
      "Emax     = 999999\n",
      "Emin     = -999999\n",
      "capitals = 1\n",
      "prec     = 6\n",
      "rounding = ROUND_HALF_EVEN\n",
      "flags    =\n",
      "{<class 'decimal.InvalidOperation'>:False, <class 'decimal.FloatOperation'>:True, <class 'decimal.DivisionByZero'>:False, <class 'decimal.Overflow'>:False, <class 'decimal.Underflow'>:False, <class 'decimal.Subnormal'>:False, <class 'decimal.Inexact'>:True, <class 'decimal.Rounded'>:True, <class 'decimal.Clamped'>:False}\n",
      "traps    =\n",
      "{<class 'decimal.InvalidOperation'>:True, <class 'decimal.FloatOperation'>:False, <class 'decimal.DivisionByZero'>:True, <class 'decimal.Overflow'>:True, <class 'decimal.Underflow'>:False, <class 'decimal.Subnormal'>:False, <class 'decimal.Inexact'>:False, <class 'decimal.Rounded'>:False, <class 'decimal.Clamped'>:False}\n"
     ]
    }
   ],
   "source": [
    "import decimal\n",
    "import pprint\n",
    " \n",
    "context = decimal.getcontext()\n",
    " \n",
    "print ('Emax     =', context.Emax)\n",
    "print ('Emin     =', context.Emin)\n",
    "print ('capitals =', context.capitals)\n",
    "print ('prec     =', context.prec)\n",
    "print ('rounding =', context.rounding)\n",
    "print ('flags    =')\n",
    "pprint.pprint(context.flags)\n",
    "print ('traps    =')\n",
    "pprint.pprint(context.traps)\n"
   ]
  },
  {
   "cell_type": "code",
   "execution_count": null,
   "metadata": {},
   "outputs": [],
   "source": []
  }
 ],
 "metadata": {
  "kernelspec": {
   "display_name": "Python 3",
   "language": "python",
   "name": "python3"
  },
  "language_info": {
   "codemirror_mode": {
    "name": "ipython",
    "version": 3
   },
   "file_extension": ".py",
   "mimetype": "text/x-python",
   "name": "python",
   "nbconvert_exporter": "python",
   "pygments_lexer": "ipython3",
   "version": "3.8.2"
  }
 },
 "nbformat": 4,
 "nbformat_minor": 4
}
