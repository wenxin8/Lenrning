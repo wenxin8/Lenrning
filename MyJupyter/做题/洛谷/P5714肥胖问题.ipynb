{
 "cells": [
  {
   "cell_type": "code",
   "execution_count": 5,
   "metadata": {},
   "outputs": [
    {
     "name": "stdin",
     "output_type": "stream",
     "text": [
      " 100 1.5\n"
     ]
    },
    {
     "name": "stdout",
     "output_type": "stream",
     "text": [
      "44.4444\n",
      "Overweight\n"
     ]
    }
   ],
   "source": [
    "from decimal import Decimal, getcontext\n",
    "getcontext().prec = 6\n",
    "m, h = map(float, input().split())\n",
    "bmi = Decimal(m) / Decimal(h**2)\n",
    "if bmi < 18.5:\n",
    "    print('Underweight')\n",
    "elif bmi < 24:\n",
    "    print('Normal')\n",
    "else:\n",
    "    print(bmi)\n",
    "    print('Overweight')       "
   ]
  }
 ],
 "metadata": {
  "kernelspec": {
   "display_name": "Python 3",
   "language": "python",
   "name": "python3"
  },
  "language_info": {
   "codemirror_mode": {
    "name": "ipython",
    "version": 3
   },
   "file_extension": ".py",
   "mimetype": "text/x-python",
   "name": "python",
   "nbconvert_exporter": "python",
   "pygments_lexer": "ipython3",
   "version": "3.8.2"
  }
 },
 "nbformat": 4,
 "nbformat_minor": 4
}
