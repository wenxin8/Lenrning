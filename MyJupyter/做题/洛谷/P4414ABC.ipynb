{
 "cells": [
  {
   "cell_type": "code",
   "execution_count": 1,
   "metadata": {},
   "outputs": [
    {
     "name": "stdin",
     "output_type": "stream",
     "text": [
      " 1 5 3\n",
      " ABC\n"
     ]
    },
    {
     "name": "stdout",
     "output_type": "stream",
     "text": [
      "1 3 5 "
     ]
    }
   ],
   "source": [
    "def main():\n",
    "    a, b, c = map(int, input().split())\n",
    "    lists = [a, b, c]\n",
    "    lists.sort()\n",
    "    a = lists[0]\n",
    "    b = lists[1]\n",
    "    c = lists[2]\n",
    "    str_ABC = input()\n",
    "    for i in str_ABC:\n",
    "        if i == 'A':\n",
    "            print(a, end=' ')\n",
    "        if i == 'B':\n",
    "            print(b, end=' ')\n",
    "        if i =='C':\n",
    "            print(c, end=' ')\n",
    "\n",
    "main()"
   ]
  },
  {
   "cell_type": "code",
   "execution_count": null,
   "metadata": {},
   "outputs": [],
   "source": []
  }
 ],
 "metadata": {
  "kernelspec": {
   "display_name": "Python 3",
   "language": "python",
   "name": "python3"
  },
  "language_info": {
   "codemirror_mode": {
    "name": "ipython",
    "version": 3
   },
   "file_extension": ".py",
   "mimetype": "text/x-python",
   "name": "python",
   "nbconvert_exporter": "python",
   "pygments_lexer": "ipython3",
   "version": "3.8.2"
  }
 },
 "nbformat": 4,
 "nbformat_minor": 4
}
