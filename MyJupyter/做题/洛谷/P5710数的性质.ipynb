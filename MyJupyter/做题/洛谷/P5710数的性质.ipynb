{
 "cells": [
  {
   "cell_type": "markdown",
   "metadata": {},
   "source": [
    "# P5710 【深基3.例2】数的性质\n",
    "## 题目描述  \n",
    "一些数字可能拥有以下的性质： \n",
    "- 性质 1：是偶数；\n",
    "- 性质 2：大于 4 且不大于 12。  \n",
    "小A 喜欢这两个性质同时成立的数字；Uim 喜欢这至少符合其中一种性质的数字；八尾勇喜欢刚好有符合其中一个性质的数字；正妹喜欢不符合这两个性质的数字。\n",
    "## 输入格式\n",
    "输入一个数字 x(0 <= x <= 1000)\n",
    "## 输出格式\n",
    "输出这 4 个人是否喜欢这个数字，如果喜欢则输出1，否则输出0，用空格分隔。\n",
    "## 输入输出样例\n",
    "输入  \n",
    "12   \n",
    "输出  \n",
    "1 1 0 0"
   ]
  },
  {
   "cell_type": "code",
   "execution_count": 9,
   "metadata": {},
   "outputs": [
    {
     "name": "stdin",
     "output_type": "stream",
     "text": [
      " 13\n"
     ]
    },
    {
     "name": "stdout",
     "output_type": "stream",
     "text": [
      "0 0 0 1 "
     ]
    }
   ],
   "source": [
    "def main(x):\n",
    "    is_like = [0, 0, 0, 0]\n",
    "    a, b = 0, 0\n",
    "    if x % 2 == 0:\n",
    "        a = 1\n",
    "    if 4 < x <= 12:\n",
    "        b = 1\n",
    "    if a and b:\n",
    "        is_like[0] = 1\n",
    "    if a or b:\n",
    "        is_like[1] = 1\n",
    "    if (a and not b) or (not a and b):\n",
    "        is_like[2] = 1\n",
    "    if (not a and not b):\n",
    "        is_like[3] = 1\n",
    "    for i in is_like:\n",
    "        print(i, end=' ')\n",
    "x = int(input())\n",
    "main(x)    \n"
   ]
  },
  {
   "cell_type": "code",
   "execution_count": null,
   "metadata": {},
   "outputs": [],
   "source": []
  }
 ],
 "metadata": {
  "kernelspec": {
   "display_name": "Python 3",
   "language": "python",
   "name": "python3"
  },
  "language_info": {
   "codemirror_mode": {
    "name": "ipython",
    "version": 3
   },
   "file_extension": ".py",
   "mimetype": "text/x-python",
   "name": "python",
   "nbconvert_exporter": "python",
   "pygments_lexer": "ipython3",
   "version": "3.8.2"
  }
 },
 "nbformat": 4,
 "nbformat_minor": 4
}
