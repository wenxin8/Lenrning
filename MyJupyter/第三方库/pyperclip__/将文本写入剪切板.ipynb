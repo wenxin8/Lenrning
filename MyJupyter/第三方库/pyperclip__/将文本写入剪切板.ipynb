{
 "cells": [
  {
   "cell_type": "markdown",
   "metadata": {},
   "source": [
    "<font size=4>1.**该模块为第三方模块，需安装后使用**   \n",
    "pip install pyperclip    \n",
    "2.**作用：**向剪切板发送文本或读取剪切板文本    \n",
    "3.**用法：**  \n",
    "pyperclip.copy('dsd')  # 向剪切板发送文本   \n",
    "pyperclip.paste()  # 读取剪切板文本  "
   ]
  },
  {
   "cell_type": "code",
   "execution_count": 5,
   "metadata": {},
   "outputs": [
    {
     "name": "stdout",
     "output_type": "stream",
     "text": [
      "The text to be copied to the clipboard.\n"
     ]
    }
   ],
   "source": [
    "import pyperclip\n",
    "pyperclip.copy('The text to be copied to the clipboard.')\n",
    "a = pyperclip.paste()\n",
    "print(a)"
   ]
  },
  {
   "cell_type": "code",
   "execution_count": null,
   "metadata": {},
   "outputs": [],
   "source": []
  }
 ],
 "metadata": {
  "kernelspec": {
   "display_name": "Python 3",
   "language": "python",
   "name": "python3"
  },
  "language_info": {
   "codemirror_mode": {
    "name": "ipython",
    "version": 3
   },
   "file_extension": ".py",
   "mimetype": "text/x-python",
   "name": "python",
   "nbconvert_exporter": "python",
   "pygments_lexer": "ipython3",
   "version": "3.8.2"
  }
 },
 "nbformat": 4,
 "nbformat_minor": 4
}
