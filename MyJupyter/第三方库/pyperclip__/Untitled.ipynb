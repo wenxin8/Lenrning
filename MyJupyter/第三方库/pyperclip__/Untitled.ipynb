{
 "cells": [
  {
   "cell_type": "code",
   "execution_count": 12,
   "metadata": {},
   "outputs": [],
   "source": [
    "import tkinter as tk\n",
    "import pyperclip\n",
    "win = tk.Tk()\n",
    "\n",
    "def copy():\n",
    "    pyperclip.copy(var.get())\n",
    "\n",
    "var = tk.StringVar()\n",
    "var.set('THUV2-32HH7-6NMHN-PTX7Y-QQCTH')\n",
    "\n",
    "entry = tk.Entry(win, state='readonly', text=var)\n",
    "entry.grid(padx=5, pady=5)\n",
    "\n",
    "button = tk.Button(win, text='复制', command=copy)\n",
    "button.grid(sticky='w',padx=5, pady=5)\n",
    "\n",
    "win.mainloop()"
   ]
  },
  {
   "cell_type": "code",
   "execution_count": null,
   "metadata": {},
   "outputs": [],
   "source": []
  },
  {
   "cell_type": "code",
   "execution_count": null,
   "metadata": {},
   "outputs": [],
   "source": []
  }
 ],
 "metadata": {
  "kernelspec": {
   "display_name": "Python 3",
   "language": "python",
   "name": "python3"
  },
  "language_info": {
   "codemirror_mode": {
    "name": "ipython",
    "version": 3
   },
   "file_extension": ".py",
   "mimetype": "text/x-python",
   "name": "python",
   "nbconvert_exporter": "python",
   "pygments_lexer": "ipython3",
   "version": "3.8.2"
  }
 },
 "nbformat": 4,
 "nbformat_minor": 4
}
