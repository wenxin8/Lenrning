{
 "cells": [
  {
   "cell_type": "code",
   "execution_count": 7,
   "metadata": {},
   "outputs": [
    {
     "data": {
      "text/plain": [
       "-1"
      ]
     },
     "execution_count": 7,
     "metadata": {},
     "output_type": "execute_result"
    }
   ],
   "source": [
    "import cv2\n",
    "#生成图片\n",
    "img = cv2.imread('test.png')\n",
    "#生成灰色图片\n",
    "imgGrey = cv2.imread('test.png', 0)\n",
    "#展示原图\n",
    "cv2.imshow('img', img)    # 如果前面没有cv2.namedWindow，就自动先执行一个cv2.namedWindow()\n",
    "#展示灰色图片\n",
    "cv2.imshow('imgGrey', imgGrey)\n",
    "#等待图片的关闭\n",
    "cv2.waitKey()  #如果不添最后一句，执行窗口直接无响应。\n",
    "               #可以用 cv.waitKey(delay) 函数延迟窗口显示时间。其中参数dealy表示要延迟的毫秒数。"
   ]
  },
  {
   "cell_type": "markdown",
   "metadata": {},
   "source": [
    "可以用 cv.namedWindow(winName, flags) 函数定义窗口。   \n",
    "flags 值定义如下：  \n",
    "常量名称\t说明\n",
    "cv.WINDOW_NORMAL\t允许手工调整窗口大小   \n",
    "cv.WINDOW_AUTOSIZE\t窗口根据图像大小自动调整，无法手工调整   \n",
    "cv.WINDOW_FREERATIO\t允许非等比例调整图像   \n",
    "cv.WINDOW_KEEPRATIO\t保持等比例调整图像   \n",
    "cv.WINDOW_GUI_NORMAL\t不显示工具栏和状态栏（旧方法）   \n",
    "cv.WINDOW_GUI_EXPANDED\t增强版的GUI（新方法）   \n",
    "默认 flags 为：   \n",
    "WINDOW_AUTOSIZE | WINDOW_KEEPRATIO | WINDOW_GUI_EXPANDED    \n",
    "\n",
    "可以用 cv.destroyAllWindows() 函数销毁我们创建的所有窗口。  "
   ]
  },
  {
   "cell_type": "code",
   "execution_count": 12,
   "metadata": {},
   "outputs": [],
   "source": [
    "import cv2\n",
    "img = cv2.imread('test.png')\n",
    "cv2.namedWindow('window_1',cv2.WINDOW_NORMAL)  \n",
    "cv2.namedWindow('window_2',cv2.WINDOW_AUTOSIZE)    \n",
    "cv2.namedWindow('window_3',cv2.WINDOW_FREERATIO)  \n",
    "cv2.namedWindow(\"window_4\",cv2.WINDOW_KEEPRATIO)  \n",
    "cv2.namedWindow('window_5',cv2.WINDOW_GUI_EXPANDED)\n",
    "cv2.imshow('window_1', img)\n",
    "cv2.imshow('window_2', img)\n",
    "cv2.imshow('window_3', img)\n",
    "cv2.imshow('window_4', img)\n",
    "cv2.imshow('window_5', img)\n",
    "cv2.waitKey(0)\n",
    "cv2.destroyAllWindows()"
   ]
  },
  {
   "cell_type": "code",
   "execution_count": null,
   "metadata": {},
   "outputs": [],
   "source": []
  }
 ],
 "metadata": {
  "kernelspec": {
   "display_name": "Python 3",
   "language": "python",
   "name": "python3"
  },
  "language_info": {
   "codemirror_mode": {
    "name": "ipython",
    "version": 3
   },
   "file_extension": ".py",
   "mimetype": "text/x-python",
   "name": "python",
   "nbconvert_exporter": "python",
   "pygments_lexer": "ipython3",
   "version": "3.8.2"
  }
 },
 "nbformat": 4,
 "nbformat_minor": 4
}
