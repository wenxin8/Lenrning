{
 "cells": [
  {
   "cell_type": "code",
   "execution_count": 6,
   "metadata": {},
   "outputs": [
    {
     "name": "stdin",
     "output_type": "stream",
     "text": [
      " 4 2 5\n"
     ]
    },
    {
     "name": "stdout",
     "output_type": "stream",
     "text": [
      "Acute triangle\n",
      "Obtuse triangle\n"
     ]
    }
   ],
   "source": [
    "def panduan(a, b, c):\n",
    "    if (a + b < c) or (a + c < b) or (b + c < a):\n",
    "        print('Not triangle')\n",
    "    else:\n",
    "        if (a**2 + b**2 == c**2) or (a**2 + c**2 == b**2) or (b**2 + c**2 == a**2):\n",
    "            print('Right triangle')\n",
    "        if (a**2 + b**2 > c**2) or (a**2 + c**2 > b**2) or (b**2 + c**2 > a**2):\n",
    "            print('Acute triangle')\n",
    "        if (a**2 + b**2 < c**2) or (a**2 + c**2 < b**2) or (b**2 + c**2 < a**2):\n",
    "            print('Obtuse triangle')\n",
    "        if (a == b or b == c or a == c):\n",
    "            print('Isosceles triangle')\n",
    "        if (a == b == c):\n",
    "            print('Equilateral triangle')\n",
    "a, b, c = map(int, input().split())\n",
    "panduan(a, b, c)\n",
    "        "
   ]
  },
  {
   "cell_type": "code",
   "execution_count": null,
   "metadata": {},
   "outputs": [],
   "source": []
  }
 ],
 "metadata": {
  "kernelspec": {
   "display_name": "Python 3",
   "language": "python",
   "name": "python3"
  },
  "language_info": {
   "codemirror_mode": {
    "name": "ipython",
    "version": 3
   },
   "file_extension": ".py",
   "mimetype": "text/x-python",
   "name": "python",
   "nbconvert_exporter": "python",
   "pygments_lexer": "ipython3",
   "version": "3.8.2"
  }
 },
 "nbformat": 4,
 "nbformat_minor": 4
}
