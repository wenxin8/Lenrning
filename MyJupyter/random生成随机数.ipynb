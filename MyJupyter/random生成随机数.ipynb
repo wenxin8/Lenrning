{
 "cells": [
  {
   "cell_type": "code",
   "execution_count": 2,
   "metadata": {},
   "outputs": [],
   "source": [
    "import random"
   ]
  },
  {
   "cell_type": "code",
   "execution_count": 5,
   "metadata": {},
   "outputs": [
    {
     "name": "stdout",
     "output_type": "stream",
     "text": [
      "[2, 5, 1]\n",
      "[2, 4, 3]\n",
      "['i', 'x', 'y', 'u']\n"
     ]
    }
   ],
   "source": [
    "# sample返回的是列表\n",
    "print(random.sample(range(10), k=3))\n",
    "print(random.sample([1,2,3,4], 3))\n",
    "print(random.sample('acdefghigklmnopqrstuvwxyz', 4))"
   ]
  },
  {
   "cell_type": "code",
   "execution_count": 26,
   "metadata": {},
   "outputs": [
    {
     "name": "stdout",
     "output_type": "stream",
     "text": [
      "[1]的个数：4993\n",
      "[2]的个数：4017\n",
      "[3]的个数：990\n",
      "[3, 1, 1, 1, 2, 1, 1, 1, 1, 2]\n",
      "\n",
      "['4', '3', '3', '4', '4', '2', '3', '2', '4', '4']\n"
     ]
    }
   ],
   "source": [
    "# choices 返回列表\n",
    "s1 = s2 = s3 = 0\n",
    "for i in range(10000):\n",
    "    a = random.choices([1, 2, 3], weights = [5, 4, 1], k=10) # k不能漏\n",
    "    if a[0] == 1:\n",
    "        s1 += 1\n",
    "    elif a[0] == 2:\n",
    "        s2 += 1\n",
    "    else:\n",
    "        s3 += 1\n",
    "print(f'[1]的个数：{s1}\\n[2]的个数：{s2}\\n[3]的个数：{s3}')\n",
    "print(a)\n",
    "print()\n",
    "a = random.choices('1234',weights=[1,2,3,4], k=10)\n",
    "print(a)"
   ]
  },
  {
   "cell_type": "code",
   "execution_count": 8,
   "metadata": {},
   "outputs": [
    {
     "name": "stdout",
     "output_type": "stream",
     "text": [
      "[0,2]之间的数：3190\n",
      "[2-10]之间的数：6810\n"
     ]
    }
   ],
   "source": [
    "# random.triangular(a,b,m) m靠那边，哪边权重大\n",
    "s1 = 0\n",
    "s2 = 0\n",
    "for i in range(10000):\n",
    "    r = random.triangular(0,10,8)\n",
    "    if 0 <= r <= 5:\n",
    "        s1 += 1\n",
    "    elif 5 <= r <= 10:\n",
    "        s2 += 1\n",
    "print(f'[0,2]之间的数：{s1}\\n[2-10]之间的数：{s2}')       "
   ]
  },
  {
   "cell_type": "code",
   "execution_count": 33,
   "metadata": {},
   "outputs": [
    {
     "name": "stdout",
     "output_type": "stream",
     "text": [
      "3\n",
      "2\n",
      "5\n"
     ]
    }
   ],
   "source": [
    "# choice 返回序列里的一个元素\n",
    "print(random.choice(['1','2','3']))\n",
    "print(random.choice([1, 2, 3]))\n",
    "print(random.choice('12345'))"
   ]
  },
  {
   "cell_type": "code",
   "execution_count": 34,
   "metadata": {},
   "outputs": [
    {
     "data": {
      "text/plain": [
       "'G:\\\\MyJupyter\\\\练习'"
      ]
     },
     "execution_count": 34,
     "metadata": {},
     "output_type": "execute_result"
    }
   ],
   "source": [
    "import os\n",
    "os.getcwd()"
   ]
  },
  {
   "cell_type": "code",
   "execution_count": null,
   "metadata": {},
   "outputs": [],
   "source": []
  }
 ],
 "metadata": {
  "kernelspec": {
   "display_name": "Python 3",
   "language": "python",
   "name": "python3"
  },
  "language_info": {
   "codemirror_mode": {
    "name": "ipython",
    "version": 3
   },
   "file_extension": ".py",
   "mimetype": "text/x-python",
   "name": "python",
   "nbconvert_exporter": "python",
   "pygments_lexer": "ipython3",
   "version": "3.7.7"
  }
 },
 "nbformat": 4,
 "nbformat_minor": 4
}
