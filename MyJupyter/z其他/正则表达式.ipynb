{
 "cells": [
  {
   "cell_type": "markdown",
   "metadata": {},
   "source": [
    "```\n",
    "这四个方法是从某个字符串中寻找特定子串或判断某个字符串是否符合某个模式的常用方法。  \n",
    "1、match  \n",
    "        re.match(pattern, string[, flags])    \n",
    "从首字母开始开始匹配，string如果包含pattern子串，则匹配成功，返回Match对象，失败则返回None，若要完全匹配，pattern要以$结尾。  \n",
    "\n",
    "2、search  \n",
    "        re.search(pattern, string[, flags])    \n",
    "若string中包含pattern子串，则返回Match对象，否则返回None，注意，如果string中存在多个pattern子串，只返回第一个。  \n",
    "\n",
    "3、findall  \n",
    "        re.findall(pattern, string[, flags])    \n",
    "返回string中所有与pattern相匹配的全部字串，返回形式为数组。  \n",
    "\n",
    "4、finditer  \n",
    "        re.finditer(pattern, string[, flags])    \n",
    "返回string中所有与pattern相匹配的全部字串，返回形式为迭代器。  \n",
    "\n",
    "若匹配成功，match()/search()返回的是Match对象，finditer()返回的也是Match对象的迭代器，获取匹配结果需要调用Match对象的group()、groups或group(index)方法。\n",
    "```"
   ]
  },
  {
   "cell_type": "markdown",
   "metadata": {},
   "source": [
    "例子1：验证输入用户名和QQ号是否有效并给出对应的提示信息。"
   ]
  },
  {
   "cell_type": "code",
   "execution_count": 16,
   "metadata": {},
   "outputs": [
    {
     "name": "stdin",
     "output_type": "stream",
     "text": [
      "请输入用户名： zhanghong\n",
      "请输入QQ号： 359358312\n"
     ]
    },
    {
     "name": "stdout",
     "output_type": "stream",
     "text": [
      "用户名和QQ号都有效\n"
     ]
    }
   ],
   "source": [
    "import re\n",
    "username = input('请输入用户名：')\n",
    "qq = input('请输入QQ号：')\n",
    "m1 = re.match(r'^[0-9a-zA-Z_]{6,20}$', username)\n",
    "m2 = re.match(r'^[1-9]\\d{4,11}$', qq)\n",
    "if not m1:\n",
    "    print('用户名无效效！')\n",
    "if not m2:\n",
    "    print('QQ号无效！')\n",
    "if m1 and m2:\n",
    "    print('用户名和QQ号都有效')"
   ]
  },
  {
   "cell_type": "code",
   "execution_count": 31,
   "metadata": {},
   "outputs": [
    {
     "name": "stdout",
     "output_type": "stream",
     "text": [
      "['13512346789', '15600998765', '15600998765']\n",
      "--------华丽的分隔线--------\n",
      "13512346789\n",
      "15600998765\n",
      "15600998765\n",
      "--------华丽的分隔线--------\n",
      "13512346789\n",
      "15600998765\n",
      "15600998765\n"
     ]
    }
   ],
   "source": [
    "import re\n",
    "\n",
    "def main():\n",
    "    # 创建正则表达式对象 使用了前瞻和回顾来保证手机号前后不应该出现数字\n",
    "    pattern = re.compile(r'(?<=\\D)1[34578]\\d{9}(?=\\D)')\n",
    "    sentence = '''\n",
    "    重要的事情说8130123456789遍，我的手机号是13512346789这个靓号，\n",
    "    不是15600998765，也是110或119，王大锤的手机号才是15600998765。\n",
    "    '''\n",
    "    # 查找所有匹配并保存到一个列表中\n",
    "    mylist = re.findall(pattern, sentence)\n",
    "    print(mylist)\n",
    "    print('--------华丽的分隔线--------')\n",
    "    # 通过迭代器取出匹配对象并获得匹配的内容\n",
    "    for temp in pattern.finditer(sentence):\n",
    "        print(temp.group())\n",
    "    print('--------华丽的分隔线--------')\n",
    "    # 通过search函数指定搜索位置找出所有匹配\n",
    "    m = pattern.search(sentence)\n",
    "    while m:\n",
    "        print(m.group())\n",
    "        m = pattern.search(sentence, m.end())\n",
    "\n",
    "if __name__ == '__main__':\n",
    "    main()"
   ]
  },
  {
   "cell_type": "code",
   "execution_count": 56,
   "metadata": {},
   "outputs": [
    {
     "name": "stdout",
     "output_type": "stream",
     "text": [
      "1234abcd 1234abcd 1234 abcd ('1234', 'abcd')\n",
      "[('1234', 'abcd'), ('4321', 'efgh'), ('', '')]\n",
      "1234\n",
      "['1234', '4321']\n"
     ]
    }
   ],
   "source": [
    "import re\n",
    "s = '1234abcd4321efgh'\n",
    "p = r'(\\d*)([a-zA-Z]*)'\n",
    "m = re.match(p, s)\n",
    "print(m.group(),\n",
    "      m.group(0),\n",
    "      m.group(1),\n",
    "      m.group(2),\n",
    "      m.groups())\n",
    "m = re.findall(p, s)\n",
    "print(m)\n",
    "p = r'(\\d+)'\n",
    "m = re.match(p, s)\n",
    "print(m.group())\n",
    "m = re.findall(p, s)\n",
    "print(m)"
   ]
  },
  {
   "cell_type": "markdown",
   "metadata": {},
   "source": [
    "```\n",
    "综上：\n",
    "group()：母串中与模式pattern匹配的子串；\n",
    "group(0)：结果与group()一样；\n",
    "groups()：所有group组成的一个元组，group(1)是与patttern中第一个group匹配成功的子串，group(2)是第二个，依次类推，如果index超了边界，抛出IndexError；\n",
    "findall()：返回的就是所有groups的数组，就是group组成的元组的数组，母串中的这一撮组成一个元组，那一措组成一个元组，这些元组共同构成一个list，就是findall()的返回结果。另，如果groups是只有一个元素的元组，findall的返回结果是子串的list，而不是元组的list了。\n",
    "```"
   ]
  },
  {
   "cell_type": "code",
   "execution_count": 101,
   "metadata": {},
   "outputs": [
    {
     "name": "stdout",
     "output_type": "stream",
     "text": [
      "['1', '3', '4', '6', '7']\n",
      "1111\n",
      "1111 3 44 6 777 \n",
      "1111 3 44 6 777 "
     ]
    }
   ],
   "source": [
    "import re\n",
    "s = '11113446777'\n",
    "z = re.compile(r'(\\d)\\1*')\n",
    "m = re.findall(r'(\\d)\\1*', s)\n",
    "print(m)\n",
    "m = re.search(r'(\\d)\\1*', s)\n",
    "print(m.group())\n",
    "m = re.finditer(r'(\\d)\\1*', s)\n",
    "for tem in m:\n",
    "    print(tem.group(), end=' ')\n",
    "print()\n",
    "for tem in z.finditer(s):\n",
    "    print(tem.group(), end=' ')"
   ]
  },
  {
   "cell_type": "markdown",
   "metadata": {},
   "source": [
    "    正则表达式中的小括号\"()\"。是代表分组的意思。 如果再其后面出现\\1则是代表与第一个小括号中要匹配的内容相同。\n",
    "    注意：\\1必须与小括号配合使用"
   ]
  },
  {
   "cell_type": "code",
   "execution_count": null,
   "metadata": {},
   "outputs": [],
   "source": []
  }
 ],
 "metadata": {
  "kernelspec": {
   "display_name": "Python 3",
   "language": "python",
   "name": "python3"
  },
  "language_info": {
   "codemirror_mode": {
    "name": "ipython",
    "version": 3
   },
   "file_extension": ".py",
   "mimetype": "text/x-python",
   "name": "python",
   "nbconvert_exporter": "python",
   "pygments_lexer": "ipython3",
   "version": "3.8.2"
  }
 },
 "nbformat": 4,
 "nbformat_minor": 4
}
