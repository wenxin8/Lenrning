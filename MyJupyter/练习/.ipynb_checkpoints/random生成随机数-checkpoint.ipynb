{
 "cells": [
  {
   "cell_type": "code",
   "execution_count": null,
   "metadata": {},
   "outputs": [],
   "source": [
    "import random"
   ]
  },
  {
   "cell_type": "code",
   "execution_count": null,
   "metadata": {},
   "outputs": [],
   "source": [
    "# random.triangular(a,b,m) m靠那边，哪边权重大\n",
    "s1 = 0\n",
    "s2 = 0\n",
    "for i in range(10000):\n",
    "    r = random.triangular(0,10,8)\n",
    "    if 0 <= r <= 5:\n",
    "        s1 += 1\n",
    "    elif 5 <= r <= 10:\n",
    "        s2 += 1\n",
    "print(f'[0,2]之间的数：{s1}\\n[2-10]之间的数：{s2}')       "
   ]
  },
  {
   "cell_type": "code",
   "execution_count": null,
   "metadata": {},
   "outputs": [],
   "source": [
    "# random.sample(population, k)\n",
    "a = [1,2,3,4,5,6,7,8,9,0]\n",
    "print(random.sample(a, k=4))"
   ]
  },
  {
   "cell_type": "code",
   "execution_count": null,
   "metadata": {},
   "outputs": [],
   "source": [
    "# choices\n",
    "s1 = s2 = s3 = 0\n",
    "for i in range(10000):\n",
    "    a = random.choices([1, 2, 3], weights = [5, 3, 2], k = 1)\n",
    "    if a[0] == 1:\n",
    "        s1 += 1\n",
    "    elif a[0] == 2:\n",
    "        s2 += 1\n",
    "    else:\n",
    "        s3 += 1\n",
    "print(f'[1]的个数：{s1}\\n[2]的个数：{s2}\\n[3]的个数：{s3}')"
   ]
  },
  {
   "cell_type": "code",
   "execution_count": null,
   "metadata": {},
   "outputs": [],
   "source": [
    "print(random.sample(range(10), 3))\n",
    "print(random.sample([1,2,3,4], 3))\n",
    "print(random.sample())"
   ]
  },
  {
   "cell_type": "code",
   "execution_count": null,
   "metadata": {},
   "outputs": [],
   "source": [
    "%load __未命名.py"
   ]
  },
  {
   "cell_type": "code",
   "execution_count": null,
   "metadata": {},
   "outputs": [],
   "source": []
  }
 ],
 "metadata": {
  "kernelspec": {
   "display_name": "Python 3",
   "language": "python",
   "name": "python3"
  },
  "language_info": {
   "codemirror_mode": {
    "name": "ipython",
    "version": 3
   },
   "file_extension": ".py",
   "mimetype": "text/x-python",
   "name": "python",
   "nbconvert_exporter": "python",
   "pygments_lexer": "ipython3",
   "version": "3.7.6"
  }
 },
 "nbformat": 4,
 "nbformat_minor": 4
}
