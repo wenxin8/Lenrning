{
 "cells": [
  {
   "cell_type": "markdown",
   "metadata": {},
   "source": [
    "## 加global显示图片"
   ]
  },
  {
   "cell_type": "code",
   "execution_count": 24,
   "metadata": {},
   "outputs": [],
   "source": [
    "from tkinter import *\n",
    "from tkinter.filedialog import askopenfilename\n",
    "  \n",
    "def choosepic():\n",
    "    global img_gif\n",
    "    path_=askopenfilename()\n",
    "    path.set(path_)\n",
    "    img_gif=PhotoImage(file='temp/test.gif')\n",
    "    l1.config(image=img_gif)\n",
    "\n",
    "#    l1.image = img_gif\n",
    "\n",
    "root=Tk()\n",
    "path=StringVar()\n",
    "Button(root,text='选择图片',command=choosepic).pack()\n",
    "e1=Entry(root,state='readonly',text=path)\n",
    "e1.pack()\n",
    "l1=Label(root)\n",
    "l1.pack()\n",
    "root.mainloop()\n",
    " "
   ]
  },
  {
   "cell_type": "markdown",
   "metadata": {},
   "source": [
    "## 不加global显示图片的方法"
   ]
  },
  {
   "cell_type": "code",
   "execution_count": 22,
   "metadata": {},
   "outputs": [],
   "source": [
    "from tkinter import *\n",
    "from tkinter.filedialog import askopenfilename\n",
    "  \n",
    "def choosepic():\n",
    "\n",
    "    path_=askopenfilename()\n",
    "    path.set(path_)\n",
    "    img_gif=PhotoImage(file='temp/test.gif')\n",
    "    l1.config(image=img_gif)\n",
    "    l1.image = img_gif  # 加上这一句\n",
    "\n",
    "root=Tk()\n",
    "path=StringVar()\n",
    "Button(root,text='选择图片',command=choosepic).pack()\n",
    "e1=Entry(root,state='readonly',text=path)\n",
    "e1.pack()\n",
    "l1=Label(root)\n",
    "l1.pack()\n",
    "root.mainloop()"
   ]
  }
 ],
 "metadata": {
  "kernelspec": {
   "display_name": "Python 3",
   "language": "python",
   "name": "python3"
  },
  "language_info": {
   "codemirror_mode": {
    "name": "ipython",
    "version": 3
   },
   "file_extension": ".py",
   "mimetype": "text/x-python",
   "name": "python",
   "nbconvert_exporter": "python",
   "pygments_lexer": "ipython3",
   "version": "3.8.2"
  }
 },
 "nbformat": 4,
 "nbformat_minor": 4
}
