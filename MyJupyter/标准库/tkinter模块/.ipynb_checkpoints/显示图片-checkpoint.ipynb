{
 "cells": [
  {
   "cell_type": "markdown",
   "metadata": {},
   "source": [
    "## 加global显示图片"
   ]
  },
  {
   "cell_type": "code",
   "execution_count": 6,
   "metadata": {},
   "outputs": [],
   "source": [
    "from tkinter import *\n",
    "from tkinter.filedialog import askopenfilename\n",
    "  \n",
    "def choosepic():\n",
    "    global img_gif\n",
    "    path_=askopenfilename()\n",
    "    path.set(path_)\n",
    "    img_gif=PhotoImage(file='temp/test.gif')\n",
    "    l1.config(image=img_gif)\n",
    "\n",
    "#    l1.image = img_gif\n",
    "\n",
    "root=Tk()\n",
    "path=StringVar()\n",
    "Button(root,text='选择图片',command=choosepic).pack()\n",
    "e1=Entry(root,state='readonly',text=path)\n",
    "e1.pack()\n",
    "l1=Label(root)\n",
    "l1.pack()\n",
    "root.mainloop()\n",
    " "
   ]
  },
  {
   "cell_type": "markdown",
   "metadata": {},
   "source": [
    "## 不加global显示图片的方法"
   ]
  },
  {
   "cell_type": "code",
   "execution_count": 7,
   "metadata": {},
   "outputs": [],
   "source": [
    "from tkinter import *\n",
    "from tkinter.filedialog import askopenfilename\n",
    "  \n",
    "def choosepic():\n",
    "\n",
    "    path_=askopenfilename()\n",
    "    path.set(path_)\n",
    "    img_gif=PhotoImage(file='temp/test.gif')\n",
    "    l1.config(image=img_gif)\n",
    "    l1.image = img_gif  # 加上这一句\n",
    "\n",
    "root=Tk()\n",
    "path=StringVar()\n",
    "Button(root,text='选择图片',command=choosepic).pack()\n",
    "e1=Entry(root,state='readonly',text=path)\n",
    "e1.pack()\n",
    "l1=Label(root)\n",
    "l1.pack()\n",
    "root.mainloop()"
   ]
  },
  {
   "cell_type": "code",
   "execution_count": 3,
   "metadata": {},
   "outputs": [],
   "source": [
    "from tkinter import *\n",
    "import time\n",
    "import os\n",
    "root = Tk()\n",
    "\n",
    "numIdx = 4 # gif的帧数\n",
    "# 填充6帧内容到frames\n",
    "frames = [PhotoImage(file=r\"t.gif\", format='gif -index %i' %(i)) for i in range(numIdx)]\n",
    "\n",
    "def update(idx): # 定时器函数\n",
    "    frame = frames[idx]\n",
    "    idx += 1 # 下一帧的序号：在0,1,2,3,4,5之间循环(共6帧)\n",
    "    label.configure(image=frame) # 显示当前帧的图片\n",
    "    root.after(500, update, idx%numIdx) # 0.1秒(100毫秒)之后继续执行定时器函数(update)\n",
    "\n",
    "label = Label(root)\n",
    "label.pack()\n",
    "root.after(0, update, 0) # 立即启动定时器函数(update)\n",
    "root.mainloop()\n"
   ]
  },
  {
   "cell_type": "code",
   "execution_count": 5,
   "metadata": {},
   "outputs": [
    {
     "name": "stdout",
     "output_type": "stream",
     "text": [
      "处理结束\n"
     ]
    }
   ],
   "source": []
  },
  {
   "cell_type": "code",
   "execution_count": null,
   "metadata": {},
   "outputs": [],
   "source": []
  },
  {
   "cell_type": "code",
   "execution_count": null,
   "metadata": {},
   "outputs": [],
   "source": []
  }
 ],
 "metadata": {
  "kernelspec": {
   "display_name": "Python 3",
   "language": "python",
   "name": "python3"
  },
  "language_info": {
   "codemirror_mode": {
    "name": "ipython",
    "version": 3
   },
   "file_extension": ".py",
   "mimetype": "text/x-python",
   "name": "python",
   "nbconvert_exporter": "python",
   "pygments_lexer": "ipython3",
   "version": "3.8.2"
  }
 },
 "nbformat": 4,
 "nbformat_minor": 4
}
