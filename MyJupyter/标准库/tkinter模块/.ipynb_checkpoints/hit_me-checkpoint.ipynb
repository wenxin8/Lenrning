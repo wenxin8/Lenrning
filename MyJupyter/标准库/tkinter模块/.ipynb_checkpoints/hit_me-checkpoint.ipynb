{
 "cells": [
  {
   "cell_type": "code",
   "execution_count": 23,
   "metadata": {},
   "outputs": [],
   "source": [
    "from tkinter import*\n",
    "window = Tk()\n",
    "\n",
    "window.title('my window')\n",
    "window.geometry('300x150+400+100')\n",
    "var = StringVar()\n",
    "l = Label(window, textvariable = var, bg='green', font=('Arial',12), height=2, width=15)\n",
    "l.pack()\n",
    "on_hit=False\n",
    "def hit_me():\n",
    "    global on_hit\n",
    "    if on_hit == False:\n",
    "        var.set('you hit me!')\n",
    "        on_hit = True\n",
    "    else:\n",
    "        var.set('')\n",
    "        on_hit = False\n",
    "b = Button(window, text='hit me', width=15, height=2, command=hit_me)\n",
    "b.pack()\n",
    "\n",
    "window.mainloop()"
   ]
  },
  {
   "cell_type": "code",
   "execution_count": null,
   "metadata": {},
   "outputs": [],
   "source": []
  },
  {
   "cell_type": "code",
   "execution_count": null,
   "metadata": {},
   "outputs": [],
   "source": []
  }
 ],
 "metadata": {
  "kernelspec": {
   "display_name": "Python 3",
   "language": "python",
   "name": "python3"
  },
  "language_info": {
   "codemirror_mode": {
    "name": "ipython",
    "version": 3
   },
   "file_extension": ".py",
   "mimetype": "text/x-python",
   "name": "python",
   "nbconvert_exporter": "python",
   "pygments_lexer": "ipython3",
   "version": "3.8.2"
  }
 },
 "nbformat": 4,
 "nbformat_minor": 4
}
