{
 "cells": [
  {
   "cell_type": "code",
   "execution_count": 20,
   "metadata": {},
   "outputs": [
    {
     "name": "stdout",
     "output_type": "stream",
     "text": [
      "F:/Users/zhong/Desktop/1.jpg\n"
     ]
    }
   ],
   "source": [
    "from tkinter import*\n",
    "from tkinter import filedialog\n",
    "from PIL import Image, ImageTk\n",
    "\n",
    "def choosepic():\n",
    "    global img_open\n",
    "    choose_path = filedialog.askopenfilename(\n",
    "        defaultextension='.*',\n",
    "        filetypes=[('JPG file', '*.jpg'),\n",
    "                   ('PNG file', '*.png'),\n",
    "                   ('GIF file', '*.gif'),\n",
    "                   ('ALL file', '*.*')],\n",
    "        initialdir='temp/',\n",
    "        initialfile='test',\n",
    "        title='打开')\n",
    "    path.set(choose_path)\n",
    "    img_open = Image.open(e.get())\n",
    "    img_open.thumbnail((200, 400))  # 生成缩略图，不改变宽高比例\n",
    "    img = ImageTk.PhotoImage(img_open)\n",
    "    l.config(image=img)\n",
    "    l.image = img\n",
    "    l2.config(image=img)\n",
    "    l2.image = img\n",
    "    \n",
    "def save():\n",
    "    save_path=filedialog.asksaveasfilename(\n",
    "        defaultextension='.jpg',         \n",
    "        filetypes=[('JPG file', '*.jpg'),\n",
    "                   ('PNG file', '*.png'),\n",
    "                   ('GIF file', '*.gif'),\n",
    "                   ('ALL file', '*.*')])      # 要加defaultextension参数路径才有后缀名\n",
    "    img_open.save(save_path)\n",
    "\n",
    "root = Tk()\n",
    "root.title('加载图片')\n",
    "root.geometry('400x300')  \n",
    "root.resizable(width=False, height=False)  # 设置是否可拉伸 root.resizable(0,0)\n",
    "\n",
    "frame1 = Frame(root)\n",
    "path = StringVar()   \n",
    "\n",
    "b = Button(frame1, text='打开', command=choosepic)\n",
    "b.pack(side='left')\n",
    "\n",
    "b2 = Button(frame1, text='保存',command=save)\n",
    "b2.pack(side='left')\n",
    "\n",
    "e = Entry(frame1, state='readonly',text=path)\n",
    "e.pack(side='top', fill='x')\n",
    "\n",
    "frame1.pack(fill='x')\n",
    "\n",
    "l = Label(root)\n",
    "l2 = Label(root)\n",
    "l.pack(side='left', fill='x')\n",
    "l2.pack(side='left', fill='x')\n",
    "\n",
    "\n",
    "root = mainloop()"
   ]
  },
  {
   "cell_type": "markdown",
   "metadata": {},
   "source": [
    "### 获取选择路径和保存路径："
   ]
  },
  {
   "cell_type": "code",
   "execution_count": null,
   "metadata": {},
   "outputs": [
    {
     "name": "stdout",
     "output_type": "stream",
     "text": [
      "F:/Users/zhong/Desktop/3453.png\n"
     ]
    }
   ],
   "source": [
    "import tkinter as tk\n",
    "from tkinter import filedialog\n",
    "\n",
    "def get_open_path():   \n",
    "    open_path = filedialog.askopenfilename()\n",
    "    print(open_path)\n",
    "\n",
    "def get_save_path():\n",
    "    save_path = filedialog.asksaveasfilename(\n",
    "    defaultextension='.jpg',          \n",
    "    filetypes=[('JPG file', '*.jpg'),\n",
    "               ('PNG file', '*.png'),\n",
    "               ('GIF file', '*.gif'),\n",
    "               ('ALL file', '*.*')]\n",
    "    )\n",
    "    print(save_path)\n",
    "window = tk.Tk()\n",
    "button_open = tk.Button(window, text='打开', command=get_open_path)\n",
    "button_open.pack()\n",
    "button_save = tk.Button(window, text='保存', command=get_save_path)\n",
    "button_save.pack()\n",
    "\n",
    "window.mainloop()"
   ]
  },
  {
   "cell_type": "code",
   "execution_count": null,
   "metadata": {},
   "outputs": [],
   "source": []
  }
 ],
 "metadata": {
  "kernelspec": {
   "display_name": "Python 3",
   "language": "python",
   "name": "python3"
  },
  "language_info": {
   "codemirror_mode": {
    "name": "ipython",
    "version": 3
   },
   "file_extension": ".py",
   "mimetype": "text/x-python",
   "name": "python",
   "nbconvert_exporter": "python",
   "pygments_lexer": "ipython3",
   "version": "3.8.2"
  }
 },
 "nbformat": 4,
 "nbformat_minor": 4
}
