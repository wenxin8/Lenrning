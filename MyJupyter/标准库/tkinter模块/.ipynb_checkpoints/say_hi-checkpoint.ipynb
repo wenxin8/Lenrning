{
 "cells": [
  {
   "cell_type": "code",
   "execution_count": 1,
   "metadata": {},
   "outputs": [
    {
     "name": "stdout",
     "output_type": "stream",
     "text": [
      "hi there, everyone!\n"
     ]
    }
   ],
   "source": [
    "from tkinter import *\n",
    "class App:\n",
    "    frame = None\n",
    "    def __init__(self,master):\n",
    "        frame = Frame(master)\n",
    "        frame.pack()\n",
    "        self.button = Button(frame,text=\"Quit\", fg=\"red\", command = frame.quit)\n",
    "        self.button.pack(side=LEFT)\n",
    "        self.hi_there = Button(frame,text=\"Hello\",command = self.say_hi)\n",
    "        self.hi_there.pack(side=LEFT)\n",
    "    def say_hi(self):\n",
    "        print(\"hi there, everyone!\")\n",
    "root = Tk()\n",
    "app = App(root)\n",
    "\n",
    "root.mainloop()\n",
    "root.destroy()\n"
   ]
  },
  {
   "cell_type": "code",
   "execution_count": null,
   "metadata": {},
   "outputs": [],
   "source": []
  }
 ],
 "metadata": {
  "kernelspec": {
   "display_name": "Python 3",
   "language": "python",
   "name": "python3"
  },
  "language_info": {
   "codemirror_mode": {
    "name": "ipython",
    "version": 3
   },
   "file_extension": ".py",
   "mimetype": "text/x-python",
   "name": "python",
   "nbconvert_exporter": "python",
   "pygments_lexer": "ipython3",
   "version": "3.8.2"
  }
 },
 "nbformat": 4,
 "nbformat_minor": 4
}
