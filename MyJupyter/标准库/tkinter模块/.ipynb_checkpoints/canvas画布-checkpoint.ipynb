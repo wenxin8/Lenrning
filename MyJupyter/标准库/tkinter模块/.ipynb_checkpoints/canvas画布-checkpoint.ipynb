{
 "cells": [
  {
   "cell_type": "code",
   "execution_count": 25,
   "metadata": {},
   "outputs": [],
   "source": [
    "import tkinter as tk\n",
    "root = tk.Tk()\n",
    "c = tk.Canvas(root, width=500, height=500)\n",
    "c.pack()\n",
    "c.create_line(0, 250, 500, 250, fill='blue')  # 实现\n",
    "c.create_line(0, 0, 500, 500, fill='green', dash=(4, 3))  # 3像素分割的4像素虚线\n",
    "c.create_rectangle(50, 50, 250, 100,fill=\"yellow\")  # 矩形\n",
    "\n",
    "root.mainloop()"
   ]
  },
  {
   "cell_type": "code",
   "execution_count": null,
   "metadata": {},
   "outputs": [],
   "source": []
  }
 ],
 "metadata": {
  "kernelspec": {
   "display_name": "Python 3",
   "language": "python",
   "name": "python3"
  },
  "language_info": {
   "codemirror_mode": {
    "name": "ipython",
    "version": 3
   },
   "file_extension": ".py",
   "mimetype": "text/x-python",
   "name": "python",
   "nbconvert_exporter": "python",
   "pygments_lexer": "ipython3",
   "version": "3.8.2"
  }
 },
 "nbformat": 4,
 "nbformat_minor": 4
}
