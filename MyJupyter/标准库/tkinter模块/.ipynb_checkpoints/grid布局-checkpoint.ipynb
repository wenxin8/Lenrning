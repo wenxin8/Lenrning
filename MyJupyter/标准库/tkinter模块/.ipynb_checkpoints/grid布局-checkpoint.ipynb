{
 "cells": [
  {
   "cell_type": "code",
   "execution_count": 35,
   "metadata": {},
   "outputs": [],
   "source": [
    "from tkinter import *\n",
    "app = Tk()\n",
    "app.title(\"Sample application\")\n",
    "Button(app, text='1',command=app.destroy).grid(row=0, column=1)\n",
    "Button(app, text='2',command=app.destroy).grid(row=0, column=2)\n",
    "Button(app, text='3',command=app.destroy).grid(row=0, column=3)\n",
    "\n",
    "# 指定列的最小宽度\n",
    "app.columnconfigure(1, minsize=50)\n",
    "\n",
    "app.mainloop()\n"
   ]
  },
  {
   "cell_type": "code",
   "execution_count": 58,
   "metadata": {},
   "outputs": [],
   "source": [
    "from tkinter import *\n",
    "root = Tk()\n",
    "# 创建如下布局（一个字符占用一个grid位置）\n",
    "# A  E\n",
    "# B C\n",
    "# D\n",
    "# A占用(0,0)(0,1),B占用(1,0),C占用(1,1),D占用(2,0),E占用(0,2)\n",
    "# 创建5个Label，分别以背景色区别\n",
    "lbA = Label(root,text = 'A',bg = 'red')\n",
    "lbB = Label(root,text = 'B',bg = 'blue')\n",
    "lbC = Label(root,text = 'C',bg = 'red')\n",
    "lbD = Label(root,text = 'D',bg = 'blue')\n",
    "lbE = Label(root,text = 'E',bg = 'blue')\n",
    "# 以下为布局参数设置\n",
    "lbA.grid(row = 0,column = 0, columnspan = 2) #columnspan表示横跨的列数\n",
    "lbB.grid(row = 1,column = 0)\n",
    "lbC.grid(row = 1,column = 1)\n",
    "lbD.grid(row = 2)\n",
    "lbE.grid(row = 0,column = 4)\n",
    "\n",
    "root.mainloop()"
   ]
  },
  {
   "cell_type": "markdown",
   "metadata": {},
   "source": [
    "![](temp/4.jpg)"
   ]
  },
  {
   "cell_type": "code",
   "execution_count": 64,
   "metadata": {},
   "outputs": [],
   "source": [
    "from tkinter import *\n",
    "root = Tk()\n",
    "# 创建两个Label\n",
    "Label(root,text = 'hello sticky000').grid()\n",
    "Label(root,text = 'Tkinter').grid()\n",
    "# 创建两个Label，并指定sticky属性\n",
    "Label(root,text = 'hello sticky').grid(sticky = W)\n",
    "Label(root,text = 'Tkinter').grid(sticky = E)\n",
    "# 默认属性下，组件的对齐方式为居中，设置sticky属性可以控制对齐方式，可用的值（N,S,E,W)及其组合值\n",
    "root.mainloop()"
   ]
  },
  {
   "cell_type": "markdown",
   "metadata": {},
   "source": [
    "![](temp/grid1.jpg)"
   ]
  },
  {
   "cell_type": "code",
   "execution_count": 69,
   "metadata": {},
   "outputs": [],
   "source": [
    "from tkinter import *\n",
    "root = Tk()\n",
    "\n",
    "Label(root, text='用户名').grid(row=0, sticky='w')\n",
    "Label(root, text='密码').grid(row=1, sticky='w')\n",
    "Entry(root).grid(row=0, column=1)\n",
    "Entry(root, show='*').grid(row=1, column=1)\n",
    "\n",
    "root.mainloop()"
   ]
  },
  {
   "cell_type": "markdown",
   "metadata": {},
   "source": [
    "![](temp/grid2.jpg)"
   ]
  },
  {
   "cell_type": "code",
   "execution_count": 8,
   "metadata": {},
   "outputs": [],
   "source": [
    "import tkinter as tk\n",
    "\n",
    "root = tk.Tk()\n",
    " \n",
    "tk.Label(root, text=\"用户名\").grid(row=0, sticky=\"w\")\n",
    "tk.Label(root, text=\"密码\").grid(row=1, sticky=\"w\")\n",
    " \n",
    "tk.Entry(root).grid(row=0, column=1)\n",
    "tk.Entry(root, show=\"*\").grid(row=1, column=1)\n",
    " \n",
    "photo = tk.PhotoImage(file=\"temp/test.gif\")\n",
    "\n",
    "tk.Label(root, image=photo, width=100, height=100).grid(row=0, column=2, rowspan=2, padx=5, pady=5) #rowspan=2 跨两行\n",
    " \n",
    "tk.Button(text=\"提交\", width=10).grid(row=2, columnspan=3, pady=5) #columnspan=3 跨三列\n",
    "root.mainloop()"
   ]
  },
  {
   "cell_type": "markdown",
   "metadata": {},
   "source": [
    "![](temp/grid3.jpg)"
   ]
  },
  {
   "cell_type": "code",
   "execution_count": null,
   "metadata": {},
   "outputs": [],
   "source": []
  }
 ],
 "metadata": {
  "kernelspec": {
   "display_name": "Python 3",
   "language": "python",
   "name": "python3"
  },
  "language_info": {
   "codemirror_mode": {
    "name": "ipython",
    "version": 3
   },
   "file_extension": ".py",
   "mimetype": "text/x-python",
   "name": "python",
   "nbconvert_exporter": "python",
   "pygments_lexer": "ipython3",
   "version": "3.8.2"
  }
 },
 "nbformat": 4,
 "nbformat_minor": 4
}
