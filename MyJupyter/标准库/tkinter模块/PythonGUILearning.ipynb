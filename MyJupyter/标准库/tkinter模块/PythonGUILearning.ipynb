{
 "cells": [
  {
   "cell_type": "code",
   "execution_count": 26,
   "metadata": {},
   "outputs": [],
   "source": [
    "from tkinter import*\n",
    "#初始化Tk()\n",
    "myWindow = Tk()\n",
    "#设置标题\n",
    "myWindow.title('Python GUI Learning')\n",
    "#设置窗口大小\n",
    "width = 380\n",
    "height = 300\n",
    "#获取屏幕尺寸以计算布局参数，使窗口居屏幕中央\n",
    "screenwidth = myWindow.winfo_screenwidth()\n",
    "screenheight = myWindow.winfo_screenheight()\n",
    "alignstr = '%dx%d+%d+%d' % ((width, height, (screenwidth-width)/2, (screenheight-height)/2))\n",
    "myWindow.geometry(alignstr)\n",
    "#设置窗口是否可变长、宽，True：可变，False：不可变\n",
    "myWindow.resizable(width=True, height=True)\n",
    "\n",
    "#框架布局\n",
    "frame_root = Frame(myWindow)\n",
    "frame_1 = Frame(frame_root)\n",
    "frame_r = Frame(frame_root)\n",
    "#创建一个标签，并在窗口上显示\n",
    "Button(frame_1, text='中国', bg='red', font=('Arial', 12), width=10, height=2).pack(side=TOP)\n",
    "Label(frame_1, text=\"日本\", bg=\"yellow\", font=(\"Arial\", 12), width=10, height=2).pack(side=TOP)\n",
    "Label(frame_r, text=\"美国\", bg=\"green\", font=(\"Arial\", 12), width=10, height=2).pack(side=TOP)\n",
    "Label(frame_r, text=\"韩国\", bg=\"blue\", font=(\"Arial\", 12), width=10, height=2).pack(side=TOP)\n",
    "frame_1.pack(side=LEFT)\n",
    "frame_r.pack(side=RIGHT)\n",
    "frame_root.pack()\n",
    "#进入循环\n",
    "myWindow.mainloop()"
   ]
  },
  {
   "cell_type": "markdown",
   "metadata": {},
   "source": [
    "`![图片](temp/1.jpg)`  \n",
    "![图片](temp/1.jpg)"
   ]
  },
  {
   "cell_type": "code",
   "execution_count": null,
   "metadata": {},
   "outputs": [],
   "source": []
  }
 ],
 "metadata": {
  "kernelspec": {
   "display_name": "Python 3",
   "language": "python",
   "name": "python3"
  },
  "language_info": {
   "codemirror_mode": {
    "name": "ipython",
    "version": 3
   },
   "file_extension": ".py",
   "mimetype": "text/x-python",
   "name": "python",
   "nbconvert_exporter": "python",
   "pygments_lexer": "ipython3",
   "version": "3.8.2"
  }
 },
 "nbformat": 4,
 "nbformat_minor": 4
}
