{
 "cells": [
  {
   "cell_type": "markdown",
   "metadata": {},
   "source": [
    "<font size=4>collections模块--Counter  \n",
    "Counter目的是用来跟踪值出现的次数。它是一个无序的容器类型，以字典的键值对形式存储，其中元素作为key，其计数作为value。计数值可以是任意的Interger（包括0和负数）。Counter类和其他语言的bags或multisets很相似。  \n",
    "**创建**    \n",
    "Counter类的创建:  "
   ]
  },
  {
   "cell_type": "code",
   "execution_count": 48,
   "metadata": {},
   "outputs": [
    {
     "name": "stdout",
     "output_type": "stream",
     "text": [
      "Counter()\n",
      "Counter({'a': 4, 'b': 2})\n",
      "Counter({'a': 4, 'b': 2})\n",
      "Counter({'a': 4, 'b': 2})\n"
     ]
    }
   ],
   "source": [
    "from collections import Counter\n",
    "a = Counter()  # 创建一个空的Counter类\n",
    "b = Counter('aaaabb')  # 从一个可iterable对象（list、tuple、dict、字符串等）创建\n",
    "c = Counter({'a': 4, 'b': 2})  # 从一个字典对象创建\n",
    "d = Counter(a = 4, b = 2)  # 从一组键值对创建\n",
    "print(f'{a}\\n{b}\\n{c}\\n{d}')\n"
   ]
  },
  {
   "cell_type": "markdown",
   "metadata": {},
   "source": [
    "<font size=4>**计数值的访问与缺失的键**  \n",
    "当所访问的键不存在时，返回0，而不是KeyError；否则返回它的计数。  \n",
    "计数值的访问:"
   ]
  },
  {
   "cell_type": "code",
   "execution_count": 49,
   "metadata": {},
   "outputs": [
    {
     "name": "stdout",
     "output_type": "stream",
     "text": [
      "2\n",
      "1\n",
      "0\n"
     ]
    }
   ],
   "source": [
    "c = Counter('abcdefgab')\n",
    "print(c['a'])\n",
    "print(c['c'])\n",
    "print(c['h'])"
   ]
  },
  {
   "cell_type": "markdown",
   "metadata": {},
   "source": [
    "<font size=4>**计数器的更新（update和subtract**  \n",
    "可以使用一个iterable对象或者另一个Counter对象来更新键值。  \n",
    "计数器的更新包括增加和减少两种。其中，增加使用update()方法：  \n",
    "计数器的更新(update):  "
   ]
  },
  {
   "cell_type": "code",
   "execution_count": 50,
   "metadata": {},
   "outputs": [
    {
     "name": "stdout",
     "output_type": "stream",
     "text": [
      "3\n",
      "4\n"
     ]
    }
   ],
   "source": [
    "c = Counter('which')\n",
    "c.update('wich')  # 使用另一个iterable对象更新\n",
    "print(c['h'])\n",
    "d = Counter('watch')  # 使用另一个Counter对象更新\n",
    "c.update(d)\n",
    "print(c['h'])"
   ]
  },
  {
   "cell_type": "markdown",
   "metadata": {},
   "source": [
    "<font size=4>减少则使用subtract()方法：  \n",
    "计数器的更新（subtract）:"
   ]
  },
  {
   "cell_type": "code",
   "execution_count": 51,
   "metadata": {},
   "outputs": [
    {
     "name": "stdout",
     "output_type": "stream",
     "text": [
      "1\n",
      "-1\n",
      "Counter({'h': 0, 'i': 0, 'w': -1, 'c': -1, 'a': -1, 't': -2})\n"
     ]
    }
   ],
   "source": [
    "c = Counter('which')\n",
    "c.subtract('witch')  # 使用另一个iterable对象更新\n",
    "print(c['h'])  \n",
    "d = Counter('watch')\n",
    "c.subtract(d)  # 使用另一个Counter对象更新\n",
    "print(c['c'])\n",
    "print(c)"
   ]
  },
  {
   "cell_type": "markdown",
   "metadata": {},
   "source": [
    "<font size=4>**键的修改和删除**  \n",
    "当计数值为0时，并不意味着元素被删除，删除元素应当使用del。   \n",
    "键的删除:"
   ]
  },
  {
   "cell_type": "code",
   "execution_count": 52,
   "metadata": {},
   "outputs": [
    {
     "name": "stdout",
     "output_type": "stream",
     "text": [
      "Counter({'a': 2, 'b': 2, 'c': 2, 'd': 1})\n",
      "Counter({'a': 2, 'c': 2, 'd': 1, 'b': 0})\n",
      "Counter({'c': 2, 'd': 1, 'b': 0})\n"
     ]
    }
   ],
   "source": [
    "c = Counter('abcdcba')\n",
    "print(c)\n",
    "c['b']=0\n",
    "print(c)\n",
    "del c['a']\n",
    "print(c)"
   ]
  },
  {
   "cell_type": "markdown",
   "metadata": {},
   "source": [
    "<font size=4>**elements()**  \n",
    "返回一个迭代器。元素被重复了多少次，在该迭代器中就包含多少个该元素。元素排列无确定顺序，个数小于1的元素不被包含。\n",
    "elements()方法 :"
   ]
  },
  {
   "cell_type": "code",
   "execution_count": 53,
   "metadata": {},
   "outputs": [
    {
     "name": "stdout",
     "output_type": "stream",
     "text": [
      "Counter({'a': 4, 'b': 2, 'c': 0, 'd': -2})\n",
      "['a', 'a', 'a', 'a', 'b', 'b']\n"
     ]
    }
   ],
   "source": [
    "c = Counter(a=4, b=2, c=0, d=-2)\n",
    "print(c)\n",
    "print(list(c.elements()))"
   ]
  },
  {
   "cell_type": "markdown",
   "metadata": {},
   "source": [
    "<font size=4>**most_common([n])**  \n",
    "返回一个TopN列表。如果n没有被指定，则返回所有元素。当多个元素计数值相同时，排列是无确定顺序的。   \n",
    "most_common()方法:\n",
    " "
   ]
  },
  {
   "cell_type": "code",
   "execution_count": 54,
   "metadata": {},
   "outputs": [
    {
     "name": "stdout",
     "output_type": "stream",
     "text": [
      "[('a', 5), ('b', 2), ('r', 2), ('c', 1), ('d', 1)]\n",
      "[('a', 5), ('b', 2), ('r', 2)]\n"
     ]
    }
   ],
   "source": [
    "c = Counter('abracadabra')\n",
    "print(c.most_common())\n",
    "print(c.most_common(3))"
   ]
  },
  {
   "cell_type": "markdown",
   "metadata": {},
   "source": [
    "<font size=4>**浅拷贝copy**"
   ]
  },
  {
   "cell_type": "code",
   "execution_count": 55,
   "metadata": {},
   "outputs": [
    {
     "name": "stdout",
     "output_type": "stream",
     "text": [
      "Counter({'a': 2, 'b': 2, 'c': 2, 'd': 1})\n"
     ]
    }
   ],
   "source": [
    "c = Counter('abcdcba')\n",
    "d = c.copy()\n",
    "print(d)"
   ]
  },
  {
   "cell_type": "markdown",
   "metadata": {},
   "source": [
    "<font size=4>**算术和集合操作**  \n",
    "+、-、&、|操作也可以用于Counter。其中&和|操作分别返回两个Counter对象各元素的最小值和最大值。需要注意的是，得到的Counter对象将删除小于1的元素。   \n",
    "Counter对象的算术和集合操作 :  "
   ]
  },
  {
   "cell_type": "code",
   "execution_count": 56,
   "metadata": {},
   "outputs": [
    {
     "name": "stdout",
     "output_type": "stream",
     "text": [
      "Counter({'a': 4, 'b': 3})\n",
      "Counter({'a': 2})\n",
      "Counter({'a': 1, 'b': 1})\n",
      "Counter({'a': 3, 'b': 2})\n"
     ]
    }
   ],
   "source": [
    "c = Counter(a=3, b=1)\n",
    "d = Counter(a=1, b=2)\n",
    "print(c+d)  # c[x] + d[x]\n",
    "print(c-d)  # subtract（只保留正数计数的元素）\n",
    "print(c&d)  # 交集:  min(c[x], d[x])\n",
    "print(c|d)  # 并集:  max(c[x], d[x])"
   ]
  },
  {
   "cell_type": "markdown",
   "metadata": {},
   "source": [
    "<font size=4>**其他常用操作**  \n",
    "下面是一些Counter类的常用操作，来源于Python官方文档  \n",
    "Counter类常用操作:"
   ]
  },
  {
   "cell_type": "code",
   "execution_count": 109,
   "metadata": {},
   "outputs": [
    {
     "name": "stdout",
     "output_type": "stream",
     "text": [
      "dict_values([4, 2])\n",
      "6\n",
      "Counter()\n",
      "['a', 'b', 'c']\n",
      "{'a', 'b', 'c'}\n",
      "{'a': 4, 'b': 2, 'c': 1}\n",
      "dict_items([('a', 4), ('b', 2), ('c', 1)])\n",
      "[('c', 1)]\n"
     ]
    }
   ],
   "source": [
    "c = Counter({'a':4, 'b':2})\n",
    "print(c.values())\n",
    "print(sum(c.values()))  # 所有计数的总数\n",
    "c.clear()  # 重置Counter对象，注意不是删除\n",
    "print(c)  \n",
    "c = Counter(a=4, b=2, c=1) \n",
    "print(list(c))  #将c中的键转为列表\n",
    "print(set(c))  # 将c中的键转为set\n",
    "print(dict(c))  # 将c中的键值对转为字典\n",
    "print(c.items())  # 转为(elem, cnt)格式的列表\n",
    "n = 2\n",
    "a = c.most_common()[:-n:-1]\n",
    "print(a)"
   ]
  },
  {
   "cell_type": "code",
   "execution_count": null,
   "metadata": {},
   "outputs": [],
   "source": []
  }
 ],
 "metadata": {
  "kernelspec": {
   "display_name": "Python 3",
   "language": "python",
   "name": "python3"
  },
  "language_info": {
   "codemirror_mode": {
    "name": "ipython",
    "version": 3
   },
   "file_extension": ".py",
   "mimetype": "text/x-python",
   "name": "python",
   "nbconvert_exporter": "python",
   "pygments_lexer": "ipython3",
   "version": "3.8.2"
  }
 },
 "nbformat": 4,
 "nbformat_minor": 4
}
