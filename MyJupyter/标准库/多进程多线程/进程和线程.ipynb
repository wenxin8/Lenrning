{
 "cells": [
  {
   "cell_type": "markdown",
   "metadata": {},
   "source": [
    "# **不使用多进程**"
   ]
  },
  {
   "cell_type": "code",
   "execution_count": 6,
   "metadata": {},
   "outputs": [
    {
     "name": "stdout",
     "output_type": "stream",
     "text": [
      "开始下载Python从入门到住院.pdf...\n",
      "Python从入门到住院.pdf下载完成! 耗费了9秒\n",
      "开始下载Peking Hot.avi...\n",
      "Peking Hot.avi下载完成! 耗费了6秒\n",
      "总共耗费了15.01秒.\n"
     ]
    }
   ],
   "source": [
    "from random import randint\n",
    "from time import time, sleep\n",
    "def download_task(filename):\n",
    "    print('开始下载%s...' % filename)\n",
    "    time_to_download = randint(5, 10)\n",
    "    sleep(time_to_download)\n",
    "    print('%s下载完成! 耗费了%d秒' % (filename, time_to_download))\n",
    "def main():\n",
    "    start = time()\n",
    "    download_task('Python从入门到住院.pdf')\n",
    "    download_task('Peking Hot.avi')\n",
    "    end = time()\n",
    "    print('总共耗费了%.2f秒.' % (end - start))\n",
    "if __name__ == '__main__':\n",
    "    main()"
   ]
  },
  {
   "cell_type": "markdown",
   "metadata": {},
   "source": [
    "# **使用多进程的方式将两个下载任务放到不同的进程中，代码如下所示，Jupyter中运行多进程有问题**"
   ]
  },
  {
   "cell_type": "code",
   "execution_count": 12,
   "metadata": {},
   "outputs": [
    {
     "name": "stdout",
     "output_type": "stream",
     "text": [
      "Overwriting temp\\1.py\n"
     ]
    }
   ],
   "source": [
    "%%writefile temp\\1.py    \n",
    "#将下列代码保存为py文件\n",
    "from multiprocessing import Process,freeze_support\n",
    "from os import getpid\n",
    "from random import randint\n",
    "from time import time, sleep\n",
    "\n",
    "def download_task(filename):\n",
    "    print('启动下载进程，进程号[%d].' % getpid())\n",
    "    print('开始下载%s...' % filename)\n",
    "    time_to_download = randint(5, 10)\n",
    "    sleep(time_to_download)\n",
    "    print('%s下载完成! 耗费了%d秒' % (filename, time_to_download))\n",
    "\n",
    "def main():\n",
    "    start = time()\n",
    "    p1 = Process(target=download_task, args=('Python从入门到住院.pdf', ))\n",
    "    p1.start()\n",
    "    p2 = Process(target=download_task, args=('Peking Hot.avi', ))\n",
    "    p2.start()\n",
    "    p1.join()\n",
    "    p2.join()\n",
    "    end = time()\n",
    "    print('总共耗费了%.2f秒.' % (end - start)) \n",
    "\n",
    "if __name__ == '__main__':  # 一定要加这个语句\n",
    "    freeze_support()  # 可以不加\n",
    "    main()"
   ]
  },
  {
   "cell_type": "code",
   "execution_count": 13,
   "metadata": {},
   "outputs": [
    {
     "name": "stdout",
     "output_type": "stream",
     "text": [
      "启动下载进程，进程号[16128].\n",
      "开始下载Peking Hot.avi...\n",
      "Peking Hot.avi下载完成! 耗费了5秒\n",
      "启动下载进程，进程号[7704].\n",
      "开始下载Python从入门到住院.pdf...\n",
      "Python从入门到住院.pdf下载完成! 耗费了7秒\n",
      "总共耗费了7.16秒.\n"
     ]
    }
   ],
   "source": [
    "! temp\\1.py  # shell命令 运行py文件"
   ]
  },
  {
   "cell_type": "markdown",
   "metadata": {},
   "source": [
    "# **不用多进程和多进程对比**"
   ]
  },
  {
   "cell_type": "code",
   "execution_count": 15,
   "metadata": {},
   "outputs": [
    {
     "name": "stdout",
     "output_type": "stream",
     "text": [
      "Overwriting temp\\2.py\n"
     ]
    }
   ],
   "source": [
    "%%writefile temp\\2.py\n",
    "from multiprocessing import Process\n",
    "from time import time\n",
    "def jc(num):    \n",
    "    s = 1\n",
    "    for i in range(1, num + 1):\n",
    "        s = s * i\n",
    "    return s    \n",
    "def main():\n",
    "    t1 = time()\n",
    "    a = jc(111111)\n",
    "    b = jc(111111)\n",
    "    t2 = time()\n",
    "    print('普通：%.5f' % (t2 - t1))\n",
    "    t3 = time()\n",
    "    p1 = Process(target=jc, args=(111111,))\n",
    "    p1.start()\n",
    "    p2 = Process(target=jc, args=(111111,))\n",
    "    p2.start()\n",
    "    p1.join()\n",
    "    p2.join()\n",
    "    t4 = time()\n",
    "    print('多进程:%.5f' % (t4-t3))\n",
    "if __name__ =='__main__':\n",
    "    main()"
   ]
  },
  {
   "cell_type": "code",
   "execution_count": 16,
   "metadata": {},
   "outputs": [
    {
     "name": "stdout",
     "output_type": "stream",
     "text": [
      "普通：27.26139\n",
      "多进程:14.30013\n"
     ]
    }
   ],
   "source": [
    "! temp\\2.py"
   ]
  },
  {
   "cell_type": "markdown",
   "metadata": {},
   "source": [
    "# **Python中的多线程**"
   ]
  },
  {
   "cell_type": "code",
   "execution_count": 10,
   "metadata": {},
   "outputs": [
    {
     "name": "stdout",
     "output_type": "stream",
     "text": [
      "开始下载Python从入门到住院.pdf...\n",
      "开始下载Peking Hot.avi...\n",
      "Peking Hot.avi下载完成! 耗费了7秒\n",
      "Python从入门到住院.pdf下载完成! 耗费了8秒\n",
      "总共耗费了8.009秒\n"
     ]
    }
   ],
   "source": [
    "from random import randint\n",
    "from threading import Thread\n",
    "from time import time, sleep\n",
    "\n",
    "def download(filename):\n",
    "    print('开始下载%s...' % filename)\n",
    "    time_to_download = randint(5, 10)\n",
    "    sleep(time_to_download)\n",
    "    print('%s下载完成! 耗费了%d秒' % (filename, time_to_download))\n",
    "\n",
    "def main():\n",
    "    start = time()\n",
    "    t1 = Thread(target=download, args=('Python从入门到住院.pdf',))\n",
    "    t1.start()\n",
    "    t2 = Thread(target=download, args=('Peking Hot.avi',))\n",
    "    t2.start()\n",
    "    t1.join()\n",
    "    t2.join()\n",
    "    end = time()\n",
    "    print('总共耗费了%.3f秒' % (end - start))\n",
    "    \n",
    "if __name__ == '__main__':\n",
    "    main()"
   ]
  },
  {
   "cell_type": "code",
   "execution_count": null,
   "metadata": {},
   "outputs": [],
   "source": []
  }
 ],
 "metadata": {
  "kernelspec": {
   "display_name": "Python 3",
   "language": "python",
   "name": "python3"
  },
  "language_info": {
   "codemirror_mode": {
    "name": "ipython",
    "version": 3
   },
   "file_extension": ".py",
   "mimetype": "text/x-python",
   "name": "python",
   "nbconvert_exporter": "python",
   "pygments_lexer": "ipython3",
   "version": "3.8.2"
  }
 },
 "nbformat": 4,
 "nbformat_minor": 4
}
