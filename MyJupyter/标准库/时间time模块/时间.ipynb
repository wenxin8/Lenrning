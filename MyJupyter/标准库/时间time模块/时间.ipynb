{
 "cells": [
  {
   "cell_type": "code",
   "execution_count": 12,
   "metadata": {},
   "outputs": [
    {
     "name": "stdout",
     "output_type": "stream",
     "text": [
      "2020/04/19 11:38:47\n",
      "2020/04/19 11:38:47\n",
      "time.struct_time(tm_year=2020, tm_mon=4, tm_mday=19, tm_hour=11, tm_min=38, tm_sec=47, tm_wday=6, tm_yday=110, tm_isdst=0)\n",
      "Sun Apr 19 11:38:47 2020\n"
     ]
    }
   ],
   "source": [
    "import time\n",
    "\n",
    "cttime = time.strftime('%Y/%m/%d %H:%M:%S', time.localtime())\n",
    "cttime2 = time.strftime('%Y/%m/%d %H:%M:%S')\n",
    "\n",
    "tm=time.localtime()\n",
    "t=time.asctime(tm)\n",
    "print(cttime)\n",
    "print(cttime2)\n",
    "print(tm)\n",
    "print(t)"
   ]
  },
  {
   "cell_type": "code",
   "execution_count": null,
   "metadata": {},
   "outputs": [],
   "source": []
  },
  {
   "cell_type": "code",
   "execution_count": null,
   "metadata": {},
   "outputs": [],
   "source": []
  }
 ],
 "metadata": {
  "kernelspec": {
   "display_name": "Python 3",
   "language": "python",
   "name": "python3"
  },
  "language_info": {
   "codemirror_mode": {
    "name": "ipython",
    "version": 3
   },
   "file_extension": ".py",
   "mimetype": "text/x-python",
   "name": "python",
   "nbconvert_exporter": "python",
   "pygments_lexer": "ipython3",
   "version": "3.8.2"
  }
 },
 "nbformat": 4,
 "nbformat_minor": 4
}
