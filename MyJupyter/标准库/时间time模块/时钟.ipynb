{
 "cells": [
  {
   "cell_type": "markdown",
   "metadata": {},
   "source": [
    "**方法1**"
   ]
  },
  {
   "cell_type": "code",
   "execution_count": 65,
   "metadata": {},
   "outputs": [],
   "source": [
    "import tkinter as tk\n",
    "import time\n",
    "root = tk.Tk()\n",
    "root.title('时钟')\n",
    "root.geometry('250x150')\n",
    "frame_1 = tk.Frame(root)\n",
    "frame_1.pack()\n",
    "\n",
    "def st():\n",
    "    ct_time = time.strftime('%Y/%m/%d %H:%M:%S', time.localtime(time.time()))\n",
    "    label.config(text=ct_time)\n",
    "    label.after(1000, st)\n",
    "tk.Label(frame_1, text='北京时间').pack(side='top')\n",
    "label = tk.Label(frame_1, text='', bg='blue', fg='white')\n",
    "label.pack()\n",
    "st()\n",
    "root.mainloop()"
   ]
  },
  {
   "cell_type": "markdown",
   "metadata": {},
   "source": [
    "**方法2**"
   ]
  },
  {
   "cell_type": "code",
   "execution_count": 62,
   "metadata": {},
   "outputs": [],
   "source": [
    "import time\n",
    "import tkinter as tk\n",
    "class App:\n",
    "    def __init__(self):\n",
    "        self.root = tk.Tk()\n",
    "        self.label = tk.Label(text='')\n",
    "        self.label.pack()\n",
    "        self.update_clock()\n",
    "        self.root.mainloop()\n",
    "    def update_clock(self):\n",
    "        now = time.strftime('%H:%M:%S')\n",
    "        self.label.config(text=now)\n",
    "        self.root.after(1000, self.update_clock)\n",
    "    \n",
    "app = App()"
   ]
  },
  {
   "cell_type": "markdown",
   "metadata": {},
   "source": [
    "**方法3**"
   ]
  },
  {
   "cell_type": "code",
   "execution_count": 37,
   "metadata": {},
   "outputs": [],
   "source": [
    "import tkinter as tk\n",
    "import time\n",
    "root = tk.Tk()\n",
    "root.title = '时间'\n",
    "root.geometry('300x200')\n",
    "def get_time():\n",
    "    '''显示当前时间'''\n",
    "    time2 = time.strftime('%Y-%m-%d %H:%M:%S')\n",
    "    tk.Label(root, text='当前时间:', bg='gold', font=28).place(x=100, y=50)\n",
    "    # 能动态显示系统时间\n",
    "    clock = tk.Label(root, text=time2, font=28)\n",
    "    clock.configure(text=time2)\n",
    "    clock.place(x=70, y=70)\n",
    "    clock.after(200,get_time)\n",
    "get_time()        \n",
    "root.mainloop()"
   ]
  },
  {
   "cell_type": "code",
   "execution_count": 1,
   "metadata": {},
   "outputs": [],
   "source": []
  },
  {
   "cell_type": "code",
   "execution_count": null,
   "metadata": {},
   "outputs": [],
   "source": []
  }
 ],
 "metadata": {
  "kernelspec": {
   "display_name": "Python 3",
   "language": "python",
   "name": "python3"
  },
  "language_info": {
   "codemirror_mode": {
    "name": "ipython",
    "version": 3
   },
   "file_extension": ".py",
   "mimetype": "text/x-python",
   "name": "python",
   "nbconvert_exporter": "python",
   "pygments_lexer": "ipython3",
   "version": "3.8.2"
  }
 },
 "nbformat": 4,
 "nbformat_minor": 4
}
