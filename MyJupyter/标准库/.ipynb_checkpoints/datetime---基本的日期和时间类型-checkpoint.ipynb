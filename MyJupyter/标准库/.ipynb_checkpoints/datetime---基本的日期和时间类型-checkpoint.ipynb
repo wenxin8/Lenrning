{
 "cells": [
  {
   "cell_type": "markdown",
   "metadata": {},
   "source": [
    "- <font size=4> datetime对象"
   ]
  },
  {
   "cell_type": "code",
   "execution_count": 55,
   "metadata": {},
   "outputs": [
    {
     "name": "stdout",
     "output_type": "stream",
     "text": [
      "datetime.today(): 2020-04-10 19:09:16.255298\n",
      "datetime.now(): 2020-04-10 19:09:16.256289\n",
      "datetim.utcnow(): 2020-04-10 11:09:16.256289\n",
      "a = time(): 1586516956.2562895\n",
      "datetime.fromtimestamp(a): 2020-04-10 19:09:16.256289\n",
      "\n",
      "实例方法:\n",
      "a = datetime.now(): 2020-04-10 19:09:16.256289\n",
      "a.date(): 2020-04-10\n",
      "a.time(): 19:09:16.256289\n",
      "a.timetz(): 19:09:16.256289\n",
      "a.timestamp(): 1586516956.256289\n",
      "a.weekday(): 4\n",
      "a.isoweekday(): 5\n",
      "a.isocalendar(): (2020, 15, 5)\n",
      "a.isocalendar(): (2020, 15, 5)\n"
     ]
    }
   ],
   "source": [
    "from datetime import datetime\n",
    "from time import time\n",
    "\n",
    "'''\n",
    "类方法\n",
    "'''\n",
    "#classmethod datetime.today()\n",
    "print('datetime.today(): %s' % datetime.today())\n",
    "\n",
    "#classmethod datetime.now(tz=None)\n",
    "print('datetime.now(): %s' % datetime.now())\n",
    "\n",
    "#classmethod datetime.utcnow() 返回UTC时间，\n",
    "print('datetim.utcnow(): %s' % datetime.utcnow())\n",
    "\n",
    "#classmethod datetime.fromtimestamp(timestamp, tz=None)\n",
    "#返回对应于 POSIX 时间戳例如 time.time() 的返回值的本地日期和时间。\n",
    "a = time()\n",
    "print('a = time(): %s' % a)\n",
    "print('datetime.fromtimestamp(a): %s' % datetime.fromtimestamp(a))\n",
    "'''\n",
    "实例方法\n",
    "'''\n",
    "print('\\n实例方法:')\n",
    "# datetime.timestamp()\n",
    "# 返回对应于 datetime 实例的 POSIX 时间戳。\n",
    "a = datetime.now()\n",
    "print('a = datetime.now(): %s' % a)\n",
    "print('a.date(): %s' % a.date())  # 返回年月日\n",
    "print('a.time(): %s' % a.time())  # 返回时分秒\n",
    "print('a.timetz(): %s' % a.timetz())\n",
    "print('a.timestamp(): %s' % a.timestamp())\n",
    "print('a.weekday(): %s' % a.weekday())  # a.weekday()返回一个整数代表星期几,星期一为 0，星期天为 6。\n",
    "print('a.isoweekday(): %s' % a.isoweekday())  # 星期一为 1，星期天为 7。\n",
    "print(f'a.isocalendar(): {a.isocalendar()}')  # 返回一个 3 元组 (ISO 年份, ISO 周序号, ISO 周日期)。\n",
    "\n",
    "\n"
   ]
  },
  {
   "cell_type": "code",
   "execution_count": null,
   "metadata": {},
   "outputs": [],
   "source": []
  }
 ],
 "metadata": {
  "kernelspec": {
   "display_name": "Python 3",
   "language": "python",
   "name": "python3"
  },
  "language_info": {
   "codemirror_mode": {
    "name": "ipython",
    "version": 3
   },
   "file_extension": ".py",
   "mimetype": "text/x-python",
   "name": "python",
   "nbconvert_exporter": "python",
   "pygments_lexer": "ipython3",
   "version": "3.8.2"
  }
 },
 "nbformat": 4,
 "nbformat_minor": 4
}
