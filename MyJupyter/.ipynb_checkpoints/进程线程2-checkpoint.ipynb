{
 "cells": [
  {
   "cell_type": "markdown",
   "metadata": {},
   "source": [
    "<font size=4>通过继承Process类的方式来创建自定义的进程类"
   ]
  },
  {
   "cell_type": "code",
   "execution_count": 8,
   "metadata": {},
   "outputs": [
    {
     "name": "stdout",
     "output_type": "stream",
     "text": [
      "Overwriting temp\\3.py\n"
     ]
    }
   ],
   "source": [
    "%%writefile temp\\3.py\n",
    "from multiprocessing import Process\n",
    "from math import factorial\n",
    "from time import time\n",
    "class TaskProcess(Process):\n",
    "    def __init__(seft, num):\n",
    "        super().__init__()\n",
    "        seft._num = num\n",
    "    def run(self):\n",
    "        start = time()\n",
    "        factorial(self._num)\n",
    "        end = time()\n",
    "        print('耗时：%.5f秒' % (end-start))\n",
    "def main():\n",
    "    s = time()\n",
    "    t1 = TaskProcess(1000000)\n",
    "    t1.start()    \n",
    "    t2 = TaskProcess(1000000)\n",
    "    t2.start()\n",
    "    t1.join()\n",
    "    t2.join()\n",
    "    e = time()\n",
    "    print('总耗时：%.5f' % (e-s))\n",
    "if __name__ == '__main__':\n",
    "    main()        "
   ]
  },
  {
   "cell_type": "code",
   "execution_count": 9,
   "metadata": {},
   "outputs": [
    {
     "name": "stdout",
     "output_type": "stream",
     "text": [
      "耗时：46.29960秒\n",
      "耗时：46.36360秒\n",
      "总耗时：46.50959\n"
     ]
    }
   ],
   "source": [
    "! temp\\3.py"
   ]
  },
  {
   "cell_type": "markdown",
   "metadata": {},
   "source": [
    "<font size=4>下面的例子演示了100个线程向同一个银行账户转账（转入1元钱）的场景，在这个例子中，银行账户就是一个临界资源， 在没有保护的情况下我们很有可能会得到错误的结果。</font>"
   ]
  },
  {
   "cell_type": "code",
   "execution_count": 33,
   "metadata": {},
   "outputs": [
    {
     "name": "stdout",
     "output_type": "stream",
     "text": [
      "账户余额为: ￥4元\n"
     ]
    }
   ],
   "source": [
    "from time import sleep\n",
    "from threading import Thread\n",
    "\n",
    "class Account(object):\n",
    "    def __init__(self):\n",
    "        self._balance = 0\n",
    "    \n",
    "    def deposit(self, money):\n",
    "        new_balance = self._balance + money\n",
    "        sleep(0.01)\n",
    "        self._balance = new_balance\n",
    "        \n",
    "    @property\n",
    "    def balance(self):\n",
    "        return self._balance\n",
    "\n",
    "class AddMoneyThread(Thread):\n",
    "    def __init__(self, account, money):\n",
    "        super().__init__()\n",
    "        self._account = account\n",
    "        self._money = money\n",
    "    def run(self):\n",
    "        self._account.deposit(self._money)\n",
    "        \n",
    "def main():\n",
    "    account = Account()\n",
    "    threads = []\n",
    "    for _ in range(100):\n",
    "        t = AddMoneyThread(account, 1)\n",
    "        threads.append(t)\n",
    "        t.start()\n",
    "    for t in threads:\n",
    "        t.join()\n",
    "    print('账户余额为: ￥%d元' % account.balance)\n",
    "\n",
    "if __name__ == '__main__':\n",
    "    main()"
   ]
  },
  {
   "cell_type": "markdown",
   "metadata": {},
   "source": [
    "<font size=4>运行上面的程序，结果让人大跌眼镜，100个线程分别向账户中转入1元钱，结果居然远远小于100元。之所以出现这种情况是因为我们没有对银行账户这个“临界资源”加以保护，多个线程同时向账户中存钱时，会一起执行到new_balance = self._balance + money这行代码，多个线程得到的账户余额都是初始状态下的0，所以都是0上面做了+1的操作，因此得到了错误的结果。在这种情况下，“锁”就可以派上用场了。我们可以通过“锁”来保护“临界资源”，只有获得“锁”的线程才能访问“临界资源”，而其他没有得到“锁”的线程只能被阻塞起来，直到获得“锁”的线程释放了“锁”，其他线程才有机会获得“锁”，进而访问被保护的“临界资源”。下面的代码演示了如何使用“锁”来保护对银行账户的操作，从而获得正确的结果。</font>"
   ]
  },
  {
   "cell_type": "code",
   "execution_count": 12,
   "metadata": {},
   "outputs": [
    {
     "name": "stdout",
     "output_type": "stream",
     "text": [
      "账户余额为: ￥10000元\n"
     ]
    }
   ],
   "source": [
    "from time import sleep\n",
    "from threading import Thread, Lock\n",
    "\n",
    "class Account(object):\n",
    "    def __init__(self):\n",
    "        self._balance = 0\n",
    "        self._lock = Lock()\n",
    "    \n",
    "    def deposit(self, money):\n",
    "        # 先获取锁才能执行后续代码\n",
    "        self._lock.acquire()\n",
    "        try:\n",
    "            new_balance = self._balance + money\n",
    "            sleep(0.01)\n",
    "            self._balance = new_balance\n",
    "        finally:\n",
    "            # 在finally中执行释放锁的操作保证正常异常锁都能释放\n",
    "            self._lock.release()\n",
    "        \n",
    "    @property\n",
    "    def balance(self):\n",
    "        return self._balance\n",
    "\n",
    "class AddMoneyThread(Thread):\n",
    "    def __init__(self, account, money):\n",
    "        super().__init__()\n",
    "        self._account = account\n",
    "        self._money = money\n",
    "    def run(self):\n",
    "        self._account.deposit(self._money)\n",
    "        \n",
    "def main():\n",
    "    account = Account()\n",
    "    threads = []\n",
    "    for _ in range(100):\n",
    "        t = AddMoneyThread(account, 100)\n",
    "        threads.append(t)\n",
    "        t.start()\n",
    "    for t in threads:\n",
    "        t.join()\n",
    "    print('账户余额为: ￥%d元' % account.balance)\n",
    "\n",
    "if __name__ == '__main__':\n",
    "    main()"
   ]
  },
  {
   "cell_type": "markdown",
   "metadata": {},
   "source": [
    "<font size=4>进程间通信使用Queue队列</font>"
   ]
  },
  {
   "cell_type": "code",
   "execution_count": 44,
   "metadata": {},
   "outputs": [
    {
     "name": "stdout",
     "output_type": "stream",
     "text": [
      "Overwriting temp\\queue_1.py\n"
     ]
    }
   ],
   "source": [
    "%%writefile temp\\queue_1.py\n",
    "from multiprocessing import Queue, Process\n",
    "import os\n",
    "#写入进程\n",
    "def wp(q):\n",
    "    print('进程%s开始写入:' % os.getpid())\n",
    "    for i in range(100):\n",
    "        q.put(i)\n",
    "        print(i, end='\\t')\n",
    "    print()\n",
    "    print('进程%s写入完成.' % os.getpid())\n",
    "#读取进程    \n",
    "def rp(q):\n",
    "    print('进程%s开始读取' % os.getpid())\n",
    "    while not q.empty():\n",
    "        print(q.get(), end='\\t')\n",
    "    print()\n",
    "    print('进程%s读取完成.' % os.getpid())\n",
    "\n",
    "def main():\n",
    "    q = Queue()\n",
    "    p1 = Process(target=wp, args=(q,))\n",
    "    p2 = Process(target=rp, args=(q,))    \n",
    "    p1.start()    \n",
    "    p2.start()\n",
    "    \n",
    "if __name__ == \"__main__\":\n",
    "    main()   "
   ]
  },
  {
   "cell_type": "code",
   "execution_count": 45,
   "metadata": {},
   "outputs": [
    {
     "name": "stdout",
     "output_type": "stream",
     "text": [
      "进程17120开始写入:\n",
      "0\t1\t2\t3\t4\t5\t6\t7\t8\t9\t10\t11\t12\t13\t14\t15\t16\t17\t18\t19\t20\t21\t22\t23\t24\t25\t26\t27\t28\t29\t30\t31\t32\t33\t34\t35\t36\t37\t38\t39\t40\t41\t42\t43\t44\t45\t46\t47\t48\t49\t50\t51\t52\t53\t54\t55\t56\t57\t58\t59\t60\t61\t62\t63\t64\t65\t66\t67\t68\t69\t70\t71\t72\t73\t74\t75\t76\t77\t78\t79\t80\t81\t82\t83\t84\t85\t86\t87\t88\t89\t90\t91\t92\t93\t94\t95\t96\t97\t98\t99\t\n",
      "进程17120写入完成.\n",
      "进程7372开始读取\n",
      "0\t1\t2\t3\t4\t5\t6\t7\t8\t9\t10\t11\t12\t13\t14\t15\t16\t17\t18\t19\t20\t21\t22\t23\t24\t25\t26\t27\t28\t29\t30\t31\t32\t33\t34\t35\t36\t37\t38\t39\t40\t41\t42\t43\t44\t45\t46\t47\t48\t49\t50\t51\t52\t53\t54\t55\t56\t57\t58\t59\t60\t61\t62\t63\t64\t65\t66\t67\t68\t69\t70\t71\t72\t73\t74\t75\t76\t77\t78\t79\t80\t81\t82\t83\t84\t85\t86\t87\t88\t89\t90\t91\t92\t93\t94\t95\t96\t97\t98\t99\t\n",
      "进程7372读取完成.\n"
     ]
    }
   ],
   "source": [
    "! temp\\queue_1.py"
   ]
  },
  {
   "cell_type": "code",
   "execution_count": null,
   "metadata": {},
   "outputs": [],
   "source": []
  }
 ],
 "metadata": {
  "kernelspec": {
   "display_name": "Python 3",
   "language": "python",
   "name": "python3"
  },
  "language_info": {
   "codemirror_mode": {
    "name": "ipython",
    "version": 3
   },
   "file_extension": ".py",
   "mimetype": "text/x-python",
   "name": "python",
   "nbconvert_exporter": "python",
   "pygments_lexer": "ipython3",
   "version": "3.8.2"
  }
 },
 "nbformat": 4,
 "nbformat_minor": 4
}
