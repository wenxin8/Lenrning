{
 "cells": [
  {
   "cell_type": "markdown",
   "metadata": {},
   "source": [
    "## **通过继承Process类的方式来创建自定义的进程类**"
   ]
  },
  {
   "cell_type": "code",
   "execution_count": 8,
   "metadata": {},
   "outputs": [
    {
     "name": "stdout",
     "output_type": "stream",
     "text": [
      "Overwriting temp\\3.py\n"
     ]
    }
   ],
   "source": [
    "%%writefile temp\\3.py\n",
    "from multiprocessing import Process\n",
    "from math import factorial\n",
    "from time import time\n",
    "class TaskProcess(Process):\n",
    "    def __init__(seft, num):\n",
    "        super().__init__()\n",
    "        seft._num = num\n",
    "    def run(self):\n",
    "        start = time()\n",
    "        factorial(self._num)\n",
    "        end = time()\n",
    "        print('耗时：%.5f秒' % (end-start))\n",
    "def main():\n",
    "    s = time()\n",
    "    t1 = TaskProcess(1000000)\n",
    "    t1.start()    \n",
    "    t2 = TaskProcess(1000000)\n",
    "    t2.start()\n",
    "    t1.join()\n",
    "    t2.join()\n",
    "    e = time()\n",
    "    print('总耗时：%.5f' % (e-s))\n",
    "if __name__ == '__main__':\n",
    "    main()        "
   ]
  },
  {
   "cell_type": "code",
   "execution_count": 9,
   "metadata": {},
   "outputs": [
    {
     "name": "stdout",
     "output_type": "stream",
     "text": [
      "耗时：46.29960秒\n",
      "耗时：46.36360秒\n",
      "总耗时：46.50959\n"
     ]
    }
   ],
   "source": [
    "! temp\\3.py"
   ]
  },
  {
   "cell_type": "code",
   "execution_count": null,
   "metadata": {},
   "outputs": [],
   "source": []
  }
 ],
 "metadata": {
  "kernelspec": {
   "display_name": "Python 3",
   "language": "python",
   "name": "python3"
  },
  "language_info": {
   "codemirror_mode": {
    "name": "ipython",
    "version": 3
   },
   "file_extension": ".py",
   "mimetype": "text/x-python",
   "name": "python",
   "nbconvert_exporter": "python",
   "pygments_lexer": "ipython3",
   "version": "3.8.2"
  }
 },
 "nbformat": 4,
 "nbformat_minor": 4
}
