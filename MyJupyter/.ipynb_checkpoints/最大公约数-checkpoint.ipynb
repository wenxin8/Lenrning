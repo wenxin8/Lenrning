{
 "cells": [
  {
   "cell_type": "raw",
   "metadata": {},
   "source": [
    " 按部就班法:"
   ]
  },
  {
   "cell_type": "code",
   "execution_count": null,
   "metadata": {},
   "outputs": [],
   "source": [
    "def max_commondivisor1(a, b):\n",
    "    for i in range(min(a, b), 0, -1):  #从两数中小的一个开始到1，一个个验证\n",
    "        if a % i == 0 and b % i == 0:  #如果能够被两数同时整除\n",
    "            print(i)  #输出该数后不再循环\n",
    "            break"
   ]
  },
  {
   "cell_type": "raw",
   "metadata": {},
   "source": [
    "辗转相除法:"
   ]
  },
  {
   "cell_type": "code",
   "execution_count": null,
   "metadata": {},
   "outputs": [],
   "source": [
    "def max_commondivisor2(a, b):\n",
    "    if a < b:  #如果a<b，则交换两数位置，否则不交换\n",
    "        a, b = b, a\n",
    "    r = a % b\n",
    "    while r != 0:\n",
    "        a, b = b, r\n",
    "        r = a % b\n",
    "    print(b)  #余数为零后，打印输出b  "
   ]
  }
 ],
 "metadata": {
  "kernelspec": {
   "display_name": "Python 3",
   "language": "python",
   "name": "python3"
  },
  "language_info": {
   "codemirror_mode": {
    "name": "ipython",
    "version": 3
   },
   "file_extension": ".py",
   "mimetype": "text/x-python",
   "name": "python",
   "nbconvert_exporter": "python",
   "pygments_lexer": "ipython3",
   "version": "3.8.2"
  }
 },
 "nbformat": 4,
 "nbformat_minor": 4
}
